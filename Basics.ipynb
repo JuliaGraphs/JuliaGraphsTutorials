{
 "cells": [
  {
   "cell_type": "markdown",
   "metadata": {},
   "source": [
    "# LightGraphs.jl\n",
    "\n",
    "## Overview\n",
    "\n",
    "`LightGraphs.jl`, or LG for short, is the core package for graph algorithms in Julia. The purpose of this tutorial is to get you up and running with some of the basics and the design that we have adopted.\n",
    "\n",
    "## Installation\n",
    "\n",
    "Please install the package by typing the following in the Julia prompt:"
   ]
  },
  {
   "cell_type": "code",
   "execution_count": 1,
   "metadata": {
    "collapsed": false
   },
   "outputs": [
    {
     "name": "stderr",
     "output_type": "stream",
     "text": [
      "\u001b[1m\u001b[34mINFO: Nothing to be done\n",
      "\u001b[0m"
     ]
    }
   ],
   "source": [
    "Pkg.add(\"LightGraphs\")"
   ]
  },
  {
   "cell_type": "markdown",
   "metadata": {},
   "source": [
    "## How to define a graph?\n",
    "\n",
    "The most common approach is to construct a graph with only vertices and add edges iteratively:"
   ]
  },
  {
   "cell_type": "code",
   "execution_count": 2,
   "metadata": {
    "collapsed": false
   },
   "outputs": [
    {
     "data": {
      "text/plain": [
       "{3, 3} undirected graph"
      ]
     },
     "execution_count": 2,
     "metadata": {},
     "output_type": "execute_result"
    }
   ],
   "source": [
    "using LightGraphs\n",
    "\n",
    "G₁ = Graph(3) # graph with 3 vertices\n",
    "\n",
    "# make a triangle\n",
    "add_edge!(G₁, 1, 2)\n",
    "add_edge!(G₁, 1, 3)\n",
    "add_edge!(G₁, 2, 3)\n",
    "\n",
    "G₁"
   ]
  },
  {
   "cell_type": "markdown",
   "metadata": {},
   "source": [
    "Alternatively, one can construct a graph from its adjacency matrix:"
   ]
  },
  {
   "cell_type": "code",
   "execution_count": 3,
   "metadata": {
    "collapsed": false
   },
   "outputs": [],
   "source": [
    "A = [\n",
    "    0 1 1\n",
    "    1 0 1\n",
    "    1 1 0\n",
    "]\n",
    "\n",
    "G₂ = Graph(A)\n",
    "\n",
    "@assert G₁ == G₂"
   ]
  },
  {
   "cell_type": "markdown",
   "metadata": {},
   "source": [
    "It is also possible to construct a graph with random edges using:"
   ]
  },
  {
   "cell_type": "code",
   "execution_count": 4,
   "metadata": {
    "collapsed": false
   },
   "outputs": [
    {
     "data": {
      "text/plain": [
       "{3, 3} undirected graph"
      ]
     },
     "execution_count": 4,
     "metadata": {},
     "output_type": "execute_result"
    }
   ],
   "source": [
    "G = Graph(3,3)"
   ]
  },
  {
   "cell_type": "markdown",
   "metadata": {},
   "source": [
    "Notice that LG checks the maximum number of edges for the given number of vertices, and throws an error if this maximum is not respected:"
   ]
  },
  {
   "cell_type": "code",
   "execution_count": 5,
   "metadata": {
    "collapsed": false
   },
   "outputs": [
    {
     "ename": "LoadError",
     "evalue": "AssertionError: Maximum number of edges for this graph is 3",
     "output_type": "error",
     "traceback": [
      "AssertionError: Maximum number of edges for this graph is 3",
      "",
      " in #Graph#85(::Int64, ::Type{T}, ::Int64, ::Int64) at /home/juliohm/.julia/v0.5/LightGraphs/src/generators/randgraphs.jl:3",
      " in LightGraphs.Graph(::Int64, ::Int64) at /home/juliohm/.julia/v0.5/LightGraphs/src/generators/randgraphs.jl:2"
     ]
    }
   ],
   "source": [
    "Graph(3,4)"
   ]
  },
  {
   "cell_type": "markdown",
   "metadata": {},
   "source": [
    "The graphs just created are undirected, meaning that there is no sense of direction in the edges of the graph. To create a graph with directed edges, use:"
   ]
  },
  {
   "cell_type": "code",
   "execution_count": 6,
   "metadata": {
    "collapsed": false
   },
   "outputs": [
    {
     "data": {
      "text/plain": [
       "{3, 3} directed graph"
      ]
     },
     "execution_count": 6,
     "metadata": {},
     "output_type": "execute_result"
    }
   ],
   "source": [
    "G = DiGraph(3,3)"
   ]
  },
  {
   "cell_type": "markdown",
   "metadata": {},
   "source": [
    "## Basic operations\n",
    "\n",
    "Now that we know how to construct graphs, let's perform basic operations with them."
   ]
  }
 ],
 "metadata": {
  "kernelspec": {
   "display_name": "Julia 0.5.1-pre",
   "language": "julia",
   "name": "julia-0.5"
  },
  "language_info": {
   "file_extension": ".jl",
   "mimetype": "application/julia",
   "name": "julia",
   "version": "0.5.1"
  }
 },
 "nbformat": 4,
 "nbformat_minor": 2
}
