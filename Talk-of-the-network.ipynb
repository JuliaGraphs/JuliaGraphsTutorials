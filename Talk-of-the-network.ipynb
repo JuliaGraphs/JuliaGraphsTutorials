{
 "cells": [
  {
   "cell_type": "markdown",
   "metadata": {},
   "source": [
    "*Note: In this workbook, we try to replicate the results from the classic paper \"Talk of the Network: A Complex Systems Look at the Underlying Process of Word-of-Mouth\", Goldenberg, Libai and Muller (2001). This is a self-didactic attempt.*"
   ]
  },
  {
   "cell_type": "code",
   "execution_count": 1,
   "metadata": {},
   "outputs": [],
   "source": [
    "using Distributions\n",
    "using MetaGraphs\n",
    "using DataFrames\n",
    "using GLM"
   ]
  },
  {
   "cell_type": "code",
   "execution_count": 2,
   "metadata": {},
   "outputs": [
    {
     "data": {
      "text/plain": [
       "MersenneTwister(UInt32[0x01332bfa], Base.dSFMT.DSFMT_state(Int32[-1772545288, 1073534108, 1077066014, 1072915095, -2146195133, 1072843413, 301764553, 1073404181, 750472136, 1073628106  …  -1491411563, 1073194977, 716119449, 1072893711, 1632331784, 758890923, 1433693833, -13012230, 382, 0]), [1.61032, 1.94373, 1.59225, 1.2466, 1.27962, 1.38458, 1.26211, 1.10108, 1.35191, 1.27754  …  1.48711, 1.53164, 1.84171, 1.54119, 1.59737, 1.13554, 1.14808, 1.90278, 1.99924, 1.55963], 382)"
      ]
     },
     "execution_count": 2,
     "metadata": {},
     "output_type": "execute_result"
    }
   ],
   "source": [
    "srand(20130810)"
   ]
  },
  {
   "cell_type": "markdown",
   "metadata": {},
   "source": [
    "# 1. Introduction \n",
    "\n",
    "In [Talk of the Network](https://www0.gsb.columbia.edu/mygsb/faculty/research/pubfiles/3391/TalkofNetworks.pdf), the authors  explore the pattern of personal communication betwee an individual's core friends group (strong ties) and a wider set of acquaintances (weak ties). This remarkable study is one of the first ones in marketing that explored the influence of social networks on the diffusion of marketing messages. The key questions investigated in the context of information dissemination are:\n",
    "\n",
    "- What matters more - strong ties or weak ties?\n",
    "- What effect does the size of an average individuals network have?\n",
    "- How does advertising interact with the diffusion through weak ties and that through strong ties\n",
    "\n",
    "In this workbook, we focus on the first question: do strong ties or weak ties influence the speed of information dissemination in a network?"
   ]
  },
  {
   "cell_type": "markdown",
   "metadata": {},
   "source": [
    "# 2. Initializing the network"
   ]
  },
  {
   "cell_type": "markdown",
   "metadata": {},
   "source": [
    "Since this study employs a set of synthetic networks, where each of the nodes have a fixed number of strong ties ($s$) and weak ties ($w$), we need to use the `MetaGraph` types to build these networks. We initialize the network as an empty graph and then build the neighborhoods of individual nodes by adhering to the number of strong and weak ties for each node."
   ]
  },
  {
   "cell_type": "code",
   "execution_count": 3,
   "metadata": {},
   "outputs": [
    {
     "data": {
      "text/plain": [
       "initialize_network (generic function with 1 method)"
      ]
     },
     "execution_count": 3,
     "metadata": {},
     "output_type": "execute_result"
    }
   ],
   "source": [
    "function initialize_network(n_nodes::Int, n_strong_ties::Int, n_weak_ties::Int)\n",
    "    \n",
    "    # Initialize an empty network\n",
    "    \n",
    "    mg = MetaGraph()\n",
    "    nodes = 1:n_nodes\n",
    "    \n",
    "    for node in nodes\n",
    "        set_props!(mg, node, Dict(:weak_ties => Int[],\n",
    "                                  :strong_ties => Int[],\n",
    "                                  :status => false,\n",
    "                                  :activation_prob => 0.0))\n",
    "    end\n",
    "    \n",
    "    # Wire the network according to the number of strong and weak ties\n",
    "    # When wiring with random nodes, take care that the subject node and\n",
    "    # already existing neighbors are not sampled again\n",
    "    \n",
    "    for node in nodes\n",
    "        while length(get_prop(mg, node, :weak_ties)) < n_weak_ties\n",
    "            rand_nbr = sample(nodes[1:end .!= node])\n",
    "            if !(rand_nbr in get_prop(mg, node, :weak_ties) || rand_nbr in get_prop(mg, node, :strong_ties))\n",
    "                append!(get_prop(mg, node, :weak_ties), rand_nbr)\n",
    "            end\n",
    "        end\n",
    "        while length(get_prop(mg, node, :strong_ties)) < n_strong_ties\n",
    "            rand_nbr = sample(nodes[1:end .!= node])\n",
    "            if !(rand_nbr in get_prop(mg, node, :weak_ties) || rand_nbr in get_prop(mg, node, :strong_ties))\n",
    "                append!(get_prop(mg, node, :strong_ties), rand_nbr)\n",
    "            end\n",
    "        end\n",
    "    end\n",
    "    \n",
    "    return mg\n",
    "end"
   ]
  },
  {
   "cell_type": "markdown",
   "metadata": {},
   "source": [
    "# 3. Model\n",
    "\n",
    "## 3.1 Assumptions\n",
    "\n",
    "Each individual in the substrate network (referred to as nodes) are connected to the same number of strong ties (varied from 5 - 29) and weak ties (varied from 5 - 29). The probability of activation of a node, i.e., an uninformed individual turning to informed can happen in three ways: through a strong tie with probability $\\beta_s$, through a weak tie with probability $\\beta_w$ or through external marketing efforts with probability $\\alpha$. In line with conventional wisdom, we assume $\\alpha < \\beta_w < \\beta_s$. \n",
    "\n",
    "At timestep $t$, if an individual is connected to $m$ strong ties and $j$ weak ties, the probability of the individual being informed in this time step is:\n",
    "\n",
    "$$\n",
    "p(t) = 1 - (1- \\alpha)(1 - \\beta_w)^j(1 - \\beta_s)^m\n",
    "$$\n",
    "\n",
    "We are interested in two outcome variables:\n",
    "1. The number of time steps elapsed till 15% of the network engages \n",
    "2. The number of time steps elapsed till 95% of the network engages"
   ]
  },
  {
   "cell_type": "markdown",
   "metadata": {},
   "source": [
    "## 3.2 Execution\n",
    "\n",
    "*Step 1:* At $t = 0$, the status of all nodes is set to `false`\n",
    "\n",
    "*Step 2:* For each node, the probability of being informed is calculated as per the above equation. A random draw $U$ is made from a standard uniform distribution and compared with the probability. If $U < p(t)$ the status of the node is changed to `true`\n",
    "\n",
    "*Step 3:* In each successive time step, Step 2 is repeated till 95% of the total network (of size 3000) engages"
   ]
  },
  {
   "cell_type": "markdown",
   "metadata": {},
   "source": [
    "We now look at several helper functions that execute the above logic\n",
    "\n",
    "### 3.2.1 Reset node status\n",
    "\n",
    "At the beginning of each simulation, we call the following function to set the status of all the nodes to `false`. "
   ]
  },
  {
   "cell_type": "code",
   "execution_count": 4,
   "metadata": {},
   "outputs": [
    {
     "data": {
      "text/plain": [
       "reset_node_status! (generic function with 1 method)"
      ]
     },
     "execution_count": 4,
     "metadata": {},
     "output_type": "execute_result"
    }
   ],
   "source": [
    "function reset_node_status!(G::MetaGraphs.MetaGraph, n_nodes::Int)\n",
    "    for node in 1:n_nodes\n",
    "        set_prop!(G, node, :status, false)\n",
    "    end\n",
    "    return nothing\n",
    "end"
   ]
  },
  {
   "cell_type": "markdown",
   "metadata": {},
   "source": [
    "### 3.2.2 Activation probability\n",
    "\n",
    "At each time step, the probabilty of activation for each node is calculated using the following function. We count the number of activated strong and weak ties for each node and use the above formula to compute the activation probability."
   ]
  },
  {
   "cell_type": "code",
   "execution_count": 5,
   "metadata": {},
   "outputs": [
    {
     "data": {
      "text/plain": [
       "update_activation_prob! (generic function with 1 method)"
      ]
     },
     "execution_count": 5,
     "metadata": {},
     "output_type": "execute_result"
    }
   ],
   "source": [
    "function update_activation_prob!(G::MetaGraphs.MetaGraph, node::Int, alpha::Float64, beta_w::Float64, beta_s::Float64)\n",
    "    n_active_weak_ties, n_active_strong_ties = 0, 0\n",
    "\n",
    "    for weak_tie in get_prop(G, node, :weak_ties)\n",
    "        if get_prop(G, weak_tie, :status) == true\n",
    "            n_active_weak_ties += 1\n",
    "        end\n",
    "    end\n",
    "\n",
    "    for strong_tie in get_prop(G, node, :strong_ties)\n",
    "        if get_prop(G, strong_tie, :status) == true\n",
    "            n_active_strong_ties += 1\n",
    "        end\n",
    "    end\n",
    "\n",
    "    set_prop!(G, node, :activation_prob, \n",
    "              1 - (1 - alpha) * (1 - beta_w)^n_active_weak_ties * (1 - beta_s)^n_active_strong_ties)\n",
    "    \n",
    "    return nothing\n",
    "end"
   ]
  },
  {
   "cell_type": "markdown",
   "metadata": {},
   "source": [
    "### 3.2.3 Update node status\n",
    "\n",
    "At each time step the status of all the nodes is updated according to the calculated probability of activation. "
   ]
  },
  {
   "cell_type": "code",
   "execution_count": 6,
   "metadata": {},
   "outputs": [
    {
     "data": {
      "text/plain": [
       "update_status! (generic function with 1 method)"
      ]
     },
     "execution_count": 6,
     "metadata": {},
     "output_type": "execute_result"
    }
   ],
   "source": [
    "function update_status!(G::MetaGraphs.MetaGraph, n_nodes::Int, alpha::Float64, beta_w::Float64, beta_s::Float64)\n",
    "    nodes = 1:n_nodes\n",
    "    \n",
    "    # assuming that the nodes update in random order\n",
    "    \n",
    "    for node in shuffle(nodes)\n",
    "        update_activation_prob!(G, node, alpha, beta_w, beta_s)\n",
    "        \n",
    "        if rand(Uniform()) < get_prop(G, node, :activation_prob)\n",
    "            set_prop!(G, node, :status, true)\n",
    "        end\n",
    "    end\n",
    "    \n",
    "    return nothing\n",
    "end"
   ]
  },
  {
   "cell_type": "markdown",
   "metadata": {},
   "source": [
    "### 3.2.4 Simulation on the parameter space\n",
    "\n",
    "The function `execute_simulation` puts together the scaffolding to set up the parameter space $(s, w, \\alpha, \\beta_w, \\beta_s)$ and execute diffusion along the network. From what I can gather from the paper, one simulation was carried out at each point on the parameter space. No further details regarding the execution are mentioned except that since each parameter has 7 levels, a total of $7^5 = 16,808$ simulations were executed in a factorial design. In this workbook, we work on a smaller sized parameter space with 3 levels for illustration.\n",
    "\n",
    "Also, I am assuming that the network is drawn at random for each run of the simulation.\n",
    "\n",
    "One more interesting information: The authors mention that their simulations were written in C, it would be interesting to compare the execution times with Julia. This is a non-standard problem that tests both the robustness of Julia types and its execution speed (maybe this will prompt someone to make a pull request!)."
   ]
  },
  {
   "cell_type": "code",
   "execution_count": 7,
   "metadata": {},
   "outputs": [
    {
     "name": "stdout",
     "output_type": "stream",
     "text": [
      "Number of strong ties per node (s): [5, 17, 29]\n",
      "Number of weak ties per node(w): [5, 17, 29]\n",
      "Effect of advertising (α): [0.0005, 0.00525, 0.01]\n",
      "Effect of weak ties (β_w): [0.005, 0.01, 0.015]\n",
      "Effect of strong ties (β_s): [0.01, 0.04, 0.07]\n"
     ]
    }
   ],
   "source": [
    "println(\"Number of strong ties per node (s): \", floor.(Int, linspace(5, 29, 3)))\n",
    "println(\"Number of weak ties per node(w): \", floor.(Int, linspace(5, 29, 3)))\n",
    "println(\"Effect of advertising (α): \", collect(linspace(0.0005, 0.01, 3)))\n",
    "println(\"Effect of weak ties (β_w): \", collect(linspace(0.005, 0.015, 3)))\n",
    "println(\"Effect of strong ties (β_s): \", collect(linspace(0.01, 0.07, 3)))"
   ]
  },
  {
   "cell_type": "code",
   "execution_count": 8,
   "metadata": {},
   "outputs": [
    {
     "data": {
      "text/plain": [
       "((3, 3, 3, 3, 3), 243)"
      ]
     },
     "execution_count": 8,
     "metadata": {},
     "output_type": "execute_result"
    }
   ],
   "source": [
    "parameter_space = [(s, w, alpha, beta_w, beta_s) for s in floor.(Int, linspace(5, 29, 3)), \n",
    "                                                     w in floor.(Int, linspace(5, 29, 3)),\n",
    "                                                     alpha in linspace(0.0005, 0.01, 3),\n",
    "                                                     beta_w in linspace(0.005, 0.015, 3),\n",
    "                                                     beta_s in linspace(0.01, 0.07, 3)]\n",
    "\n",
    "size(parameter_space), length(parameter_space)"
   ]
  },
  {
   "cell_type": "code",
   "execution_count": 9,
   "metadata": {},
   "outputs": [
    {
     "data": {
      "text/plain": [
       "execute_simulation (generic function with 1 method)"
      ]
     },
     "execution_count": 9,
     "metadata": {},
     "output_type": "execute_result"
    }
   ],
   "source": [
    "function execute_simulation(parameter_space, n_nodes::Int)\n",
    "    \n",
    "    # n_nodes dictates how big the network will be\n",
    "    # We cannot pre-allocate the output since we do not know for how many time steps the simulation will\n",
    "    # run at each setting\n",
    "    \n",
    "    output = DataFrame(s = Int[], w = Int[], alpha = Float64[], \n",
    "                       beta_w = Float64[], beta_s = Float64[], \n",
    "                       t = Int[], num_engaged = Int[])\n",
    "\n",
    "\n",
    "    # Rewiring the network each time is expensive. We can cut down repeats of the same rewiring process\n",
    "    # by building the network only when the parameters used to build the network have changed.\n",
    "    \n",
    "    old_s, old_w = parameter_space[1][1:2]\n",
    "    G = initialize_network(n_nodes, old_s, old_w)\n",
    "    \n",
    "    for (s, w, alpha, beta_w, beta_s) in parameter_space[1:end]\n",
    "        \n",
    "        # Rewire the network only if the network creation parameters have changed\n",
    "  \n",
    "        if !(old_s == s && old_w == w)\n",
    "            G = initialize_network(n_nodes, s, w)\n",
    "        end\n",
    "        reset_node_status!(G, n_nodes)\n",
    "        \n",
    "        println(\"Beginning simulation on setting $((s, w, alpha, beta_w, beta_s)) at : \", Dates.format(now(), \"HH:MM\"))\n",
    "        \n",
    "        num_engaged = sum([get_prop(G, node, :status) for node in 1:n_nodes])\n",
    "        t = 1\n",
    "        \n",
    "        # Continue updates at each setting till 95% of the network engages\n",
    "        \n",
    "        while num_engaged < Int(0.95 * n_nodes)\n",
    "            update_status!(G, n_nodes, alpha, beta_w, beta_s)\n",
    "            num_engaged = sum([get_prop(G, node, :status) for node in 1:n_nodes])\n",
    "            push!(output, [s, w, alpha, beta_w, beta_s, t, num_engaged])\n",
    "            t += 1\n",
    "        end\n",
    "    \n",
    "        old_s, old_w = s, w\n",
    "    end\n",
    "    \n",
    "    return output\n",
    "end"
   ]
  },
  {
   "cell_type": "code",
   "execution_count": 10,
   "metadata": {},
   "outputs": [
    {
     "name": "stdout",
     "output_type": "stream",
     "text": [
      "Beginning simulation on setting (5, 5, 0.0005, 0.005, 0.01) at : 12:54\n",
      "Beginning simulation on setting (17, 5, 0.0005, 0.005, 0.01) at : 12:54\n",
      "Beginning simulation on setting (29, 5, 0.0005, 0.005, 0.01) at : 12:54\n",
      "Beginning simulation on setting (5, 17, 0.0005, 0.005, 0.01) at : 12:54\n",
      "Beginning simulation on setting (17, 17, 0.0005, 0.005, 0.01) at : 12:54\n",
      "Beginning simulation on setting (29, 17, 0.0005, 0.005, 0.01) at : 12:55\n",
      "Beginning simulation on setting (5, 29, 0.0005, 0.005, 0.01) at : 12:55\n",
      "Beginning simulation on setting (17, 29, 0.0005, 0.005, 0.01) at : 12:55\n",
      "Beginning simulation on setting (29, 29, 0.0005, 0.005, 0.01) at : 12:55\n",
      "Beginning simulation on setting (5, 5, 0.00525, 0.005, 0.01) at : 12:55\n",
      "Beginning simulation on setting (17, 5, 0.00525, 0.005, 0.01) at : 12:55\n",
      "Beginning simulation on setting (29, 5, 0.00525, 0.005, 0.01) at : 12:55\n",
      "Beginning simulation on setting (5, 17, 0.00525, 0.005, 0.01) at : 12:55\n",
      "Beginning simulation on setting (17, 17, 0.00525, 0.005, 0.01) at : 12:55\n",
      "Beginning simulation on setting (29, 17, 0.00525, 0.005, 0.01) at : 12:55\n",
      "Beginning simulation on setting (5, 29, 0.00525, 0.005, 0.01) at : 12:55\n",
      "Beginning simulation on setting (17, 29, 0.00525, 0.005, 0.01) at : 12:55\n",
      "Beginning simulation on setting (29, 29, 0.00525, 0.005, 0.01) at : 12:55\n",
      "Beginning simulation on setting (5, 5, 0.01, 0.005, 0.01) at : 12:55\n",
      "Beginning simulation on setting (17, 5, 0.01, 0.005, 0.01) at : 12:55\n",
      "Beginning simulation on setting (29, 5, 0.01, 0.005, 0.01) at : 12:56\n",
      "Beginning simulation on setting (5, 17, 0.01, 0.005, 0.01) at : 12:56\n",
      "Beginning simulation on setting (17, 17, 0.01, 0.005, 0.01) at : 12:56\n",
      "Beginning simulation on setting (29, 17, 0.01, 0.005, 0.01) at : 12:56\n",
      "Beginning simulation on setting (5, 29, 0.01, 0.005, 0.01) at : 12:56\n",
      "Beginning simulation on setting (17, 29, 0.01, 0.005, 0.01) at : 12:56\n",
      "Beginning simulation on setting (29, 29, 0.01, 0.005, 0.01) at : 12:56\n",
      "Beginning simulation on setting (5, 5, 0.0005, 0.01, 0.01) at : 12:56\n",
      "Beginning simulation on setting (17, 5, 0.0005, 0.01, 0.01) at : 12:56\n",
      "Beginning simulation on setting (29, 5, 0.0005, 0.01, 0.01) at : 12:56\n",
      "Beginning simulation on setting (5, 17, 0.0005, 0.01, 0.01) at : 12:56\n",
      "Beginning simulation on setting (17, 17, 0.0005, 0.01, 0.01) at : 12:56\n",
      "Beginning simulation on setting (29, 17, 0.0005, 0.01, 0.01) at : 12:56\n",
      "Beginning simulation on setting (5, 29, 0.0005, 0.01, 0.01) at : 12:56\n",
      "Beginning simulation on setting (17, 29, 0.0005, 0.01, 0.01) at : 12:56\n",
      "Beginning simulation on setting (29, 29, 0.0005, 0.01, 0.01) at : 12:56\n",
      "Beginning simulation on setting (5, 5, 0.00525, 0.01, 0.01) at : 12:57\n",
      "Beginning simulation on setting (17, 5, 0.00525, 0.01, 0.01) at : 12:57\n",
      "Beginning simulation on setting (29, 5, 0.00525, 0.01, 0.01) at : 12:57\n",
      "Beginning simulation on setting (5, 17, 0.00525, 0.01, 0.01) at : 12:57\n",
      "Beginning simulation on setting (17, 17, 0.00525, 0.01, 0.01) at : 12:57\n",
      "Beginning simulation on setting (29, 17, 0.00525, 0.01, 0.01) at : 12:57\n",
      "Beginning simulation on setting (5, 29, 0.00525, 0.01, 0.01) at : 12:57\n",
      "Beginning simulation on setting (17, 29, 0.00525, 0.01, 0.01) at : 12:57\n",
      "Beginning simulation on setting (29, 29, 0.00525, 0.01, 0.01) at : 12:57\n",
      "Beginning simulation on setting (5, 5, 0.01, 0.01, 0.01) at : 12:57\n",
      "Beginning simulation on setting (17, 5, 0.01, 0.01, 0.01) at : 12:57\n",
      "Beginning simulation on setting (29, 5, 0.01, 0.01, 0.01) at : 12:57\n",
      "Beginning simulation on setting (5, 17, 0.01, 0.01, 0.01) at : 12:57\n",
      "Beginning simulation on setting (17, 17, 0.01, 0.01, 0.01) at : 12:57\n",
      "Beginning simulation on setting (29, 17, 0.01, 0.01, 0.01) at : 12:57\n",
      "Beginning simulation on setting (5, 29, 0.01, 0.01, 0.01) at : 12:57\n",
      "Beginning simulation on setting (17, 29, 0.01, 0.01, 0.01) at : 12:57\n",
      "Beginning simulation on setting (29, 29, 0.01, 0.01, 0.01) at : 12:57\n",
      "Beginning simulation on setting (5, 5, 0.0005, 0.015, 0.01) at : 12:57\n",
      "Beginning simulation on setting (17, 5, 0.0005, 0.015, 0.01) at : 12:58\n",
      "Beginning simulation on setting (29, 5, 0.0005, 0.015, 0.01) at : 12:58\n",
      "Beginning simulation on setting (5, 17, 0.0005, 0.015, 0.01) at : 12:58\n",
      "Beginning simulation on setting (17, 17, 0.0005, 0.015, 0.01) at : 12:58\n",
      "Beginning simulation on setting (29, 17, 0.0005, 0.015, 0.01) at : 12:58\n",
      "Beginning simulation on setting (5, 29, 0.0005, 0.015, 0.01) at : 12:58\n",
      "Beginning simulation on setting (17, 29, 0.0005, 0.015, 0.01) at : 12:58\n",
      "Beginning simulation on setting (29, 29, 0.0005, 0.015, 0.01) at : 12:58\n",
      "Beginning simulation on setting (5, 5, 0.00525, 0.015, 0.01) at : 12:58\n",
      "Beginning simulation on setting (17, 5, 0.00525, 0.015, 0.01) at : 12:58\n",
      "Beginning simulation on setting (29, 5, 0.00525, 0.015, 0.01) at : 12:58\n",
      "Beginning simulation on setting (5, 17, 0.00525, 0.015, 0.01) at : 12:58\n",
      "Beginning simulation on setting (17, 17, 0.00525, 0.015, 0.01) at : 12:58\n",
      "Beginning simulation on setting (29, 17, 0.00525, 0.015, 0.01) at : 12:58\n",
      "Beginning simulation on setting (5, 29, 0.00525, 0.015, 0.01) at : 12:58\n",
      "Beginning simulation on setting (17, 29, 0.00525, 0.015, 0.01) at : 12:58\n",
      "Beginning simulation on setting (29, 29, 0.00525, 0.015, 0.01) at : 12:58\n",
      "Beginning simulation on setting (5, 5, 0.01, 0.015, 0.01) at : 12:58\n",
      "Beginning simulation on setting (17, 5, 0.01, 0.015, 0.01) at : 12:59\n",
      "Beginning simulation on setting (29, 5, 0.01, 0.015, 0.01) at : 12:59\n",
      "Beginning simulation on setting (5, 17, 0.01, 0.015, 0.01) at : 12:59\n",
      "Beginning simulation on setting (17, 17, 0.01, 0.015, 0.01) at : 12:59\n",
      "Beginning simulation on setting (29, 17, 0.01, 0.015, 0.01) at : 12:59\n",
      "Beginning simulation on setting (5, 29, 0.01, 0.015, 0.01) at : 12:59\n",
      "Beginning simulation on setting (17, 29, 0.01, 0.015, 0.01) at : 12:59\n",
      "Beginning simulation on setting (29, 29, 0.01, 0.015, 0.01) at : 12:59\n",
      "Beginning simulation on setting (5, 5, 0.0005, 0.005, 0.04) at : 12:59\n",
      "Beginning simulation on setting (17, 5, 0.0005, 0.005, 0.04) at : 12:59\n",
      "Beginning simulation on setting (29, 5, 0.0005, 0.005, 0.04) at : 12:59\n",
      "Beginning simulation on setting (5, 17, 0.0005, 0.005, 0.04) at : 12:59\n",
      "Beginning simulation on setting (17, 17, 0.0005, 0.005, 0.04) at : 12:59\n",
      "Beginning simulation on setting (29, 17, 0.0005, 0.005, 0.04) at : 12:59\n",
      "Beginning simulation on setting (5, 29, 0.0005, 0.005, 0.04) at : 12:59\n",
      "Beginning simulation on setting (17, 29, 0.0005, 0.005, 0.04) at : 12:59\n",
      "Beginning simulation on setting (29, 29, 0.0005, 0.005, 0.04) at : 12:59\n",
      "Beginning simulation on setting (5, 5, 0.00525, 0.005, 0.04) at : 12:59\n",
      "Beginning simulation on setting (17, 5, 0.00525, 0.005, 0.04) at : 12:59\n",
      "Beginning simulation on setting (29, 5, 0.00525, 0.005, 0.04) at : 12:59\n",
      "Beginning simulation on setting (5, 17, 0.00525, 0.005, 0.04) at : 12:59\n",
      "Beginning simulation on setting (17, 17, 0.00525, 0.005, 0.04) at : 13:00\n",
      "Beginning simulation on setting (29, 17, 0.00525, 0.005, 0.04) at : 13:00\n",
      "Beginning simulation on setting (5, 29, 0.00525, 0.005, 0.04) at : 13:00\n",
      "Beginning simulation on setting (17, 29, 0.00525, 0.005, 0.04) at : 13:00\n",
      "Beginning simulation on setting (29, 29, 0.00525, 0.005, 0.04) at : 13:00\n",
      "Beginning simulation on setting (5, 5, 0.01, 0.005, 0.04) at : 13:00\n",
      "Beginning simulation on setting (17, 5, 0.01, 0.005, 0.04) at : 13:00\n",
      "Beginning simulation on setting (29, 5, 0.01, 0.005, 0.04) at : 13:00\n",
      "Beginning simulation on setting (5, 17, 0.01, 0.005, 0.04) at : 13:00\n",
      "Beginning simulation on setting (17, 17, 0.01, 0.005, 0.04) at : 13:00\n",
      "Beginning simulation on setting (29, 17, 0.01, 0.005, 0.04) at : 13:00\n",
      "Beginning simulation on setting (5, 29, 0.01, 0.005, 0.04) at : 13:00\n",
      "Beginning simulation on setting (17, 29, 0.01, 0.005, 0.04) at : 13:00\n",
      "Beginning simulation on setting (29, 29, 0.01, 0.005, 0.04) at : 13:00\n",
      "Beginning simulation on setting (5, 5, 0.0005, 0.01, 0.04) at : 13:00\n",
      "Beginning simulation on setting (17, 5, 0.0005, 0.01, 0.04) at : 13:00\n",
      "Beginning simulation on setting (29, 5, 0.0005, 0.01, 0.04) at : 13:00\n",
      "Beginning simulation on setting (5, 17, 0.0005, 0.01, 0.04) at : 13:00\n",
      "Beginning simulation on setting (17, 17, 0.0005, 0.01, 0.04) at : 13:00\n",
      "Beginning simulation on setting (29, 17, 0.0005, 0.01, 0.04) at : 13:00\n",
      "Beginning simulation on setting (5, 29, 0.0005, 0.01, 0.04) at : 13:00\n"
     ]
    },
    {
     "name": "stdout",
     "output_type": "stream",
     "text": [
      "Beginning simulation on setting (17, 29, 0.0005, 0.01, 0.04) at : 13:01\n",
      "Beginning simulation on setting (29, 29, 0.0005, 0.01, 0.04) at : 13:01\n",
      "Beginning simulation on setting (5, 5, 0.00525, 0.01, 0.04) at : 13:01\n",
      "Beginning simulation on setting (17, 5, 0.00525, 0.01, 0.04) at : 13:01\n",
      "Beginning simulation on setting (29, 5, 0.00525, 0.01, 0.04) at : 13:01\n",
      "Beginning simulation on setting (5, 17, 0.00525, 0.01, 0.04) at : 13:01\n",
      "Beginning simulation on setting (17, 17, 0.00525, 0.01, 0.04) at : 13:01\n",
      "Beginning simulation on setting (29, 17, 0.00525, 0.01, 0.04) at : 13:01\n",
      "Beginning simulation on setting (5, 29, 0.00525, 0.01, 0.04) at : 13:01\n",
      "Beginning simulation on setting (17, 29, 0.00525, 0.01, 0.04) at : 13:01\n",
      "Beginning simulation on setting (29, 29, 0.00525, 0.01, 0.04) at : 13:01\n",
      "Beginning simulation on setting (5, 5, 0.01, 0.01, 0.04) at : 13:01\n",
      "Beginning simulation on setting (17, 5, 0.01, 0.01, 0.04) at : 13:01\n",
      "Beginning simulation on setting (29, 5, 0.01, 0.01, 0.04) at : 13:01\n",
      "Beginning simulation on setting (5, 17, 0.01, 0.01, 0.04) at : 13:01\n",
      "Beginning simulation on setting (17, 17, 0.01, 0.01, 0.04) at : 13:01\n",
      "Beginning simulation on setting (29, 17, 0.01, 0.01, 0.04) at : 13:01\n",
      "Beginning simulation on setting (5, 29, 0.01, 0.01, 0.04) at : 13:01\n",
      "Beginning simulation on setting (17, 29, 0.01, 0.01, 0.04) at : 13:01\n",
      "Beginning simulation on setting (29, 29, 0.01, 0.01, 0.04) at : 13:01\n",
      "Beginning simulation on setting (5, 5, 0.0005, 0.015, 0.04) at : 13:01\n",
      "Beginning simulation on setting (17, 5, 0.0005, 0.015, 0.04) at : 13:01\n",
      "Beginning simulation on setting (29, 5, 0.0005, 0.015, 0.04) at : 13:02\n",
      "Beginning simulation on setting (5, 17, 0.0005, 0.015, 0.04) at : 13:02\n",
      "Beginning simulation on setting (17, 17, 0.0005, 0.015, 0.04) at : 13:02\n",
      "Beginning simulation on setting (29, 17, 0.0005, 0.015, 0.04) at : 13:02\n",
      "Beginning simulation on setting (5, 29, 0.0005, 0.015, 0.04) at : 13:02\n",
      "Beginning simulation on setting (17, 29, 0.0005, 0.015, 0.04) at : 13:02\n",
      "Beginning simulation on setting (29, 29, 0.0005, 0.015, 0.04) at : 13:02\n",
      "Beginning simulation on setting (5, 5, 0.00525, 0.015, 0.04) at : 13:02\n",
      "Beginning simulation on setting (17, 5, 0.00525, 0.015, 0.04) at : 13:02\n",
      "Beginning simulation on setting (29, 5, 0.00525, 0.015, 0.04) at : 13:02\n",
      "Beginning simulation on setting (5, 17, 0.00525, 0.015, 0.04) at : 13:02\n",
      "Beginning simulation on setting (17, 17, 0.00525, 0.015, 0.04) at : 13:02\n",
      "Beginning simulation on setting (29, 17, 0.00525, 0.015, 0.04) at : 13:02\n",
      "Beginning simulation on setting (5, 29, 0.00525, 0.015, 0.04) at : 13:02\n",
      "Beginning simulation on setting (17, 29, 0.00525, 0.015, 0.04) at : 13:02\n",
      "Beginning simulation on setting (29, 29, 0.00525, 0.015, 0.04) at : 13:02\n",
      "Beginning simulation on setting (5, 5, 0.01, 0.015, 0.04) at : 13:02\n",
      "Beginning simulation on setting (17, 5, 0.01, 0.015, 0.04) at : 13:02\n",
      "Beginning simulation on setting (29, 5, 0.01, 0.015, 0.04) at : 13:02\n",
      "Beginning simulation on setting (5, 17, 0.01, 0.015, 0.04) at : 13:02\n",
      "Beginning simulation on setting (17, 17, 0.01, 0.015, 0.04) at : 13:02\n",
      "Beginning simulation on setting (29, 17, 0.01, 0.015, 0.04) at : 13:03\n",
      "Beginning simulation on setting (5, 29, 0.01, 0.015, 0.04) at : 13:03\n",
      "Beginning simulation on setting (17, 29, 0.01, 0.015, 0.04) at : 13:03\n",
      "Beginning simulation on setting (29, 29, 0.01, 0.015, 0.04) at : 13:03\n",
      "Beginning simulation on setting (5, 5, 0.0005, 0.005, 0.07) at : 13:03\n",
      "Beginning simulation on setting (17, 5, 0.0005, 0.005, 0.07) at : 13:03\n",
      "Beginning simulation on setting (29, 5, 0.0005, 0.005, 0.07) at : 13:03\n",
      "Beginning simulation on setting (5, 17, 0.0005, 0.005, 0.07) at : 13:03\n",
      "Beginning simulation on setting (17, 17, 0.0005, 0.005, 0.07) at : 13:03\n",
      "Beginning simulation on setting (29, 17, 0.0005, 0.005, 0.07) at : 13:03\n",
      "Beginning simulation on setting (5, 29, 0.0005, 0.005, 0.07) at : 13:03\n",
      "Beginning simulation on setting (17, 29, 0.0005, 0.005, 0.07) at : 13:03\n",
      "Beginning simulation on setting (29, 29, 0.0005, 0.005, 0.07) at : 13:03\n",
      "Beginning simulation on setting (5, 5, 0.00525, 0.005, 0.07) at : 13:03\n",
      "Beginning simulation on setting (17, 5, 0.00525, 0.005, 0.07) at : 13:03\n",
      "Beginning simulation on setting (29, 5, 0.00525, 0.005, 0.07) at : 13:03\n",
      "Beginning simulation on setting (5, 17, 0.00525, 0.005, 0.07) at : 13:03\n",
      "Beginning simulation on setting (17, 17, 0.00525, 0.005, 0.07) at : 13:03\n",
      "Beginning simulation on setting (29, 17, 0.00525, 0.005, 0.07) at : 13:03\n",
      "Beginning simulation on setting (5, 29, 0.00525, 0.005, 0.07) at : 13:03\n",
      "Beginning simulation on setting (17, 29, 0.00525, 0.005, 0.07) at : 13:03\n",
      "Beginning simulation on setting (29, 29, 0.00525, 0.005, 0.07) at : 13:04\n",
      "Beginning simulation on setting (5, 5, 0.01, 0.005, 0.07) at : 13:04\n",
      "Beginning simulation on setting (17, 5, 0.01, 0.005, 0.07) at : 13:04\n",
      "Beginning simulation on setting (29, 5, 0.01, 0.005, 0.07) at : 13:04\n",
      "Beginning simulation on setting (5, 17, 0.01, 0.005, 0.07) at : 13:04\n",
      "Beginning simulation on setting (17, 17, 0.01, 0.005, 0.07) at : 13:04\n",
      "Beginning simulation on setting (29, 17, 0.01, 0.005, 0.07) at : 13:04\n",
      "Beginning simulation on setting (5, 29, 0.01, 0.005, 0.07) at : 13:04\n",
      "Beginning simulation on setting (17, 29, 0.01, 0.005, 0.07) at : 13:04\n",
      "Beginning simulation on setting (29, 29, 0.01, 0.005, 0.07) at : 13:04\n",
      "Beginning simulation on setting (5, 5, 0.0005, 0.01, 0.07) at : 13:04\n",
      "Beginning simulation on setting (17, 5, 0.0005, 0.01, 0.07) at : 13:04\n",
      "Beginning simulation on setting (29, 5, 0.0005, 0.01, 0.07) at : 13:04\n",
      "Beginning simulation on setting (5, 17, 0.0005, 0.01, 0.07) at : 13:04\n",
      "Beginning simulation on setting (17, 17, 0.0005, 0.01, 0.07) at : 13:04\n",
      "Beginning simulation on setting (29, 17, 0.0005, 0.01, 0.07) at : 13:04\n",
      "Beginning simulation on setting (5, 29, 0.0005, 0.01, 0.07) at : 13:04\n",
      "Beginning simulation on setting (17, 29, 0.0005, 0.01, 0.07) at : 13:04\n",
      "Beginning simulation on setting (29, 29, 0.0005, 0.01, 0.07) at : 13:04\n",
      "Beginning simulation on setting (5, 5, 0.00525, 0.01, 0.07) at : 13:04\n",
      "Beginning simulation on setting (17, 5, 0.00525, 0.01, 0.07) at : 13:04\n",
      "Beginning simulation on setting (29, 5, 0.00525, 0.01, 0.07) at : 13:04\n",
      "Beginning simulation on setting (5, 17, 0.00525, 0.01, 0.07) at : 13:04\n",
      "Beginning simulation on setting (17, 17, 0.00525, 0.01, 0.07) at : 13:04\n",
      "Beginning simulation on setting (29, 17, 0.00525, 0.01, 0.07) at : 13:05\n",
      "Beginning simulation on setting (5, 29, 0.00525, 0.01, 0.07) at : 13:05\n",
      "Beginning simulation on setting (17, 29, 0.00525, 0.01, 0.07) at : 13:05\n",
      "Beginning simulation on setting (29, 29, 0.00525, 0.01, 0.07) at : 13:05\n",
      "Beginning simulation on setting (5, 5, 0.01, 0.01, 0.07) at : 13:05\n",
      "Beginning simulation on setting (17, 5, 0.01, 0.01, 0.07) at : 13:05\n",
      "Beginning simulation on setting (29, 5, 0.01, 0.01, 0.07) at : 13:05\n",
      "Beginning simulation on setting (5, 17, 0.01, 0.01, 0.07) at : 13:05\n",
      "Beginning simulation on setting (17, 17, 0.01, 0.01, 0.07) at : 13:05\n",
      "Beginning simulation on setting (29, 17, 0.01, 0.01, 0.07) at : 13:05\n",
      "Beginning simulation on setting (5, 29, 0.01, 0.01, 0.07) at : 13:05\n",
      "Beginning simulation on setting (17, 29, 0.01, 0.01, 0.07) at : 13:05\n",
      "Beginning simulation on setting (29, 29, 0.01, 0.01, 0.07) at : 13:05\n",
      "Beginning simulation on setting (5, 5, 0.0005, 0.015, 0.07) at : 13:05\n",
      "Beginning simulation on setting (17, 5, 0.0005, 0.015, 0.07) at : 13:05\n",
      "Beginning simulation on setting (29, 5, 0.0005, 0.015, 0.07) at : 13:05\n",
      "Beginning simulation on setting (5, 17, 0.0005, 0.015, 0.07) at : 13:05\n",
      "Beginning simulation on setting (17, 17, 0.0005, 0.015, 0.07) at : 13:05\n",
      "Beginning simulation on setting (29, 17, 0.0005, 0.015, 0.07) at : 13:05\n",
      "Beginning simulation on setting (5, 29, 0.0005, 0.015, 0.07) at : 13:05\n",
      "Beginning simulation on setting (17, 29, 0.0005, 0.015, 0.07) at : 13:05\n",
      "Beginning simulation on setting (29, 29, 0.0005, 0.015, 0.07) at : 13:05\n",
      "Beginning simulation on setting (5, 5, 0.00525, 0.015, 0.07) at : 13:05\n",
      "Beginning simulation on setting (17, 5, 0.00525, 0.015, 0.07) at : 13:05\n",
      "Beginning simulation on setting (29, 5, 0.00525, 0.015, 0.07) at : 13:06\n",
      "Beginning simulation on setting (5, 17, 0.00525, 0.015, 0.07) at : 13:06\n",
      "Beginning simulation on setting (17, 17, 0.00525, 0.015, 0.07) at : 13:06\n"
     ]
    },
    {
     "name": "stdout",
     "output_type": "stream",
     "text": [
      "Beginning simulation on setting (29, 17, 0.00525, 0.015, 0.07) at : 13:06\n",
      "Beginning simulation on setting (5, 29, 0.00525, 0.015, 0.07) at : 13:06\n",
      "Beginning simulation on setting (17, 29, 0.00525, 0.015, 0.07) at : 13:06\n",
      "Beginning simulation on setting (29, 29, 0.00525, 0.015, 0.07) at : 13:06\n",
      "Beginning simulation on setting (5, 5, 0.01, 0.015, 0.07) at : 13:06\n",
      "Beginning simulation on setting (17, 5, 0.01, 0.015, 0.07) at : 13:06\n",
      "Beginning simulation on setting (29, 5, 0.01, 0.015, 0.07) at : 13:06\n",
      "Beginning simulation on setting (5, 17, 0.01, 0.015, 0.07) at : 13:06\n",
      "Beginning simulation on setting (17, 17, 0.01, 0.015, 0.07) at : 13:06\n",
      "Beginning simulation on setting (29, 17, 0.01, 0.015, 0.07) at : 13:06\n",
      "Beginning simulation on setting (5, 29, 0.01, 0.015, 0.07) at : 13:06\n",
      "Beginning simulation on setting (17, 29, 0.01, 0.015, 0.07) at : 13:06\n",
      "Beginning simulation on setting (29, 29, 0.01, 0.015, 0.07) at : 13:06\n",
      "723.387604 seconds (3.23 G allocations: 995.903 GiB, 21.76% gc time)\n"
     ]
    },
    {
     "data": {
      "text/html": [
       "<table class=\"data-frame\"><thead><tr><th></th><th>s</th><th>w</th><th>alpha</th><th>beta_w</th><th>beta_s</th><th>t</th><th>num_engaged</th></tr></thead><tbody><tr><th>1</th><td>5</td><td>5</td><td>0.0005</td><td>0.005</td><td>0.01</td><td>1</td><td>0</td></tr><tr><th>2</th><td>5</td><td>5</td><td>0.0005</td><td>0.005</td><td>0.01</td><td>2</td><td>2</td></tr><tr><th>3</th><td>5</td><td>5</td><td>0.0005</td><td>0.005</td><td>0.01</td><td>3</td><td>3</td></tr><tr><th>4</th><td>5</td><td>5</td><td>0.0005</td><td>0.005</td><td>0.01</td><td>4</td><td>6</td></tr><tr><th>5</th><td>5</td><td>5</td><td>0.0005</td><td>0.005</td><td>0.01</td><td>5</td><td>12</td></tr><tr><th>6</th><td>5</td><td>5</td><td>0.0005</td><td>0.005</td><td>0.01</td><td>6</td><td>13</td></tr><tr><th>7</th><td>5</td><td>5</td><td>0.0005</td><td>0.005</td><td>0.01</td><td>7</td><td>16</td></tr><tr><th>8</th><td>5</td><td>5</td><td>0.0005</td><td>0.005</td><td>0.01</td><td>8</td><td>19</td></tr><tr><th>9</th><td>5</td><td>5</td><td>0.0005</td><td>0.005</td><td>0.01</td><td>9</td><td>21</td></tr><tr><th>10</th><td>5</td><td>5</td><td>0.0005</td><td>0.005</td><td>0.01</td><td>10</td><td>26</td></tr><tr><th>11</th><td>5</td><td>5</td><td>0.0005</td><td>0.005</td><td>0.01</td><td>11</td><td>34</td></tr><tr><th>12</th><td>5</td><td>5</td><td>0.0005</td><td>0.005</td><td>0.01</td><td>12</td><td>38</td></tr><tr><th>13</th><td>5</td><td>5</td><td>0.0005</td><td>0.005</td><td>0.01</td><td>13</td><td>41</td></tr><tr><th>14</th><td>5</td><td>5</td><td>0.0005</td><td>0.005</td><td>0.01</td><td>14</td><td>47</td></tr><tr><th>15</th><td>5</td><td>5</td><td>0.0005</td><td>0.005</td><td>0.01</td><td>15</td><td>52</td></tr><tr><th>16</th><td>5</td><td>5</td><td>0.0005</td><td>0.005</td><td>0.01</td><td>16</td><td>57</td></tr><tr><th>17</th><td>5</td><td>5</td><td>0.0005</td><td>0.005</td><td>0.01</td><td>17</td><td>62</td></tr><tr><th>18</th><td>5</td><td>5</td><td>0.0005</td><td>0.005</td><td>0.01</td><td>18</td><td>68</td></tr><tr><th>19</th><td>5</td><td>5</td><td>0.0005</td><td>0.005</td><td>0.01</td><td>19</td><td>74</td></tr><tr><th>20</th><td>5</td><td>5</td><td>0.0005</td><td>0.005</td><td>0.01</td><td>20</td><td>81</td></tr><tr><th>21</th><td>5</td><td>5</td><td>0.0005</td><td>0.005</td><td>0.01</td><td>21</td><td>90</td></tr><tr><th>22</th><td>5</td><td>5</td><td>0.0005</td><td>0.005</td><td>0.01</td><td>22</td><td>106</td></tr><tr><th>23</th><td>5</td><td>5</td><td>0.0005</td><td>0.005</td><td>0.01</td><td>23</td><td>114</td></tr><tr><th>24</th><td>5</td><td>5</td><td>0.0005</td><td>0.005</td><td>0.01</td><td>24</td><td>126</td></tr><tr><th>25</th><td>5</td><td>5</td><td>0.0005</td><td>0.005</td><td>0.01</td><td>25</td><td>138</td></tr><tr><th>26</th><td>5</td><td>5</td><td>0.0005</td><td>0.005</td><td>0.01</td><td>26</td><td>151</td></tr><tr><th>27</th><td>5</td><td>5</td><td>0.0005</td><td>0.005</td><td>0.01</td><td>27</td><td>166</td></tr><tr><th>28</th><td>5</td><td>5</td><td>0.0005</td><td>0.005</td><td>0.01</td><td>28</td><td>180</td></tr><tr><th>29</th><td>5</td><td>5</td><td>0.0005</td><td>0.005</td><td>0.01</td><td>29</td><td>191</td></tr><tr><th>30</th><td>5</td><td>5</td><td>0.0005</td><td>0.005</td><td>0.01</td><td>30</td><td>209</td></tr><tr><th>&vellip;</th><td>&vellip;</td><td>&vellip;</td><td>&vellip;</td><td>&vellip;</td><td>&vellip;</td><td>&vellip;</td><td>&vellip;</td></tr></tbody></table>"
      ],
      "text/plain": [
       "4316×7 DataFrames.DataFrame\n",
       "│ Row  │ s  │ w  │ alpha  │ beta_w │ beta_s │ t  │ num_engaged │\n",
       "├──────┼────┼────┼────────┼────────┼────────┼────┼─────────────┤\n",
       "│ 1    │ 5  │ 5  │ 0.0005 │ 0.005  │ 0.01   │ 1  │ 0           │\n",
       "│ 2    │ 5  │ 5  │ 0.0005 │ 0.005  │ 0.01   │ 2  │ 2           │\n",
       "│ 3    │ 5  │ 5  │ 0.0005 │ 0.005  │ 0.01   │ 3  │ 3           │\n",
       "│ 4    │ 5  │ 5  │ 0.0005 │ 0.005  │ 0.01   │ 4  │ 6           │\n",
       "│ 5    │ 5  │ 5  │ 0.0005 │ 0.005  │ 0.01   │ 5  │ 12          │\n",
       "│ 6    │ 5  │ 5  │ 0.0005 │ 0.005  │ 0.01   │ 6  │ 13          │\n",
       "│ 7    │ 5  │ 5  │ 0.0005 │ 0.005  │ 0.01   │ 7  │ 16          │\n",
       "│ 8    │ 5  │ 5  │ 0.0005 │ 0.005  │ 0.01   │ 8  │ 19          │\n",
       "│ 9    │ 5  │ 5  │ 0.0005 │ 0.005  │ 0.01   │ 9  │ 21          │\n",
       "│ 10   │ 5  │ 5  │ 0.0005 │ 0.005  │ 0.01   │ 10 │ 26          │\n",
       "│ 11   │ 5  │ 5  │ 0.0005 │ 0.005  │ 0.01   │ 11 │ 34          │\n",
       "⋮\n",
       "│ 4305 │ 5  │ 29 │ 0.01   │ 0.015  │ 0.07   │ 9  │ 2798        │\n",
       "│ 4306 │ 5  │ 29 │ 0.01   │ 0.015  │ 0.07   │ 10 │ 2905        │\n",
       "│ 4307 │ 17 │ 29 │ 0.01   │ 0.015  │ 0.07   │ 1  │ 71          │\n",
       "│ 4308 │ 17 │ 29 │ 0.01   │ 0.015  │ 0.07   │ 2  │ 338         │\n",
       "│ 4309 │ 17 │ 29 │ 0.01   │ 0.015  │ 0.07   │ 3  │ 1223        │\n",
       "│ 4310 │ 17 │ 29 │ 0.01   │ 0.015  │ 0.07   │ 4  │ 2254        │\n",
       "│ 4311 │ 17 │ 29 │ 0.01   │ 0.015  │ 0.07   │ 5  │ 2820        │\n",
       "│ 4312 │ 17 │ 29 │ 0.01   │ 0.015  │ 0.07   │ 6  │ 2963        │\n",
       "│ 4313 │ 29 │ 29 │ 0.01   │ 0.015  │ 0.07   │ 1  │ 75          │\n",
       "│ 4314 │ 29 │ 29 │ 0.01   │ 0.015  │ 0.07   │ 2  │ 708         │\n",
       "│ 4315 │ 29 │ 29 │ 0.01   │ 0.015  │ 0.07   │ 3  │ 2256        │\n",
       "│ 4316 │ 29 │ 29 │ 0.01   │ 0.015  │ 0.07   │ 4  │ 2905        │"
      ]
     },
     "execution_count": 10,
     "metadata": {},
     "output_type": "execute_result"
    }
   ],
   "source": [
    "@time results = execute_simulation(parameter_space, 3000)"
   ]
  },
  {
   "cell_type": "markdown",
   "metadata": {},
   "source": [
    "# 4. Discussion\n",
    "\n",
    "To answer the research questions, the authors resort to simple linear regression. \n",
    "\n",
    "Since our focus in this workbook is on highlighting the strengths of the JuliaGraphs ecosystem, we keep the regression modeling at the most basic level. So, we replicate the linear model in the paper only for for the time till 95% of the network engages.\n",
    "\n",
    "The features used to predict these outcomes are $s$, $w$, $\\alpha$, $\\beta_w$ and $\\beta_S$. "
   ]
  },
  {
   "cell_type": "code",
   "execution_count": 11,
   "metadata": {},
   "outputs": [
    {
     "data": {
      "text/html": [
       "<table class=\"data-frame\"><thead><tr><th></th><th>s</th><th>w</th><th>alpha</th><th>beta_w</th><th>beta_s</th><th>t</th><th>num_engaged</th></tr></thead><tbody><tr><th>1</th><td>5</td><td>5</td><td>0.0005</td><td>0.005</td><td>0.01</td><td>1</td><td>0</td></tr><tr><th>2</th><td>5</td><td>5</td><td>0.0005</td><td>0.005</td><td>0.01</td><td>2</td><td>2</td></tr><tr><th>3</th><td>5</td><td>5</td><td>0.0005</td><td>0.005</td><td>0.01</td><td>3</td><td>3</td></tr><tr><th>4</th><td>5</td><td>5</td><td>0.0005</td><td>0.005</td><td>0.01</td><td>4</td><td>6</td></tr><tr><th>5</th><td>5</td><td>5</td><td>0.0005</td><td>0.005</td><td>0.01</td><td>5</td><td>12</td></tr><tr><th>6</th><td>5</td><td>5</td><td>0.0005</td><td>0.005</td><td>0.01</td><td>6</td><td>13</td></tr></tbody></table>"
      ],
      "text/plain": [
       "6×7 DataFrames.DataFrame\n",
       "│ Row │ s │ w │ alpha  │ beta_w │ beta_s │ t │ num_engaged │\n",
       "├─────┼───┼───┼────────┼────────┼────────┼───┼─────────────┤\n",
       "│ 1   │ 5 │ 5 │ 0.0005 │ 0.005  │ 0.01   │ 1 │ 0           │\n",
       "│ 2   │ 5 │ 5 │ 0.0005 │ 0.005  │ 0.01   │ 2 │ 2           │\n",
       "│ 3   │ 5 │ 5 │ 0.0005 │ 0.005  │ 0.01   │ 3 │ 3           │\n",
       "│ 4   │ 5 │ 5 │ 0.0005 │ 0.005  │ 0.01   │ 4 │ 6           │\n",
       "│ 5   │ 5 │ 5 │ 0.0005 │ 0.005  │ 0.01   │ 5 │ 12          │\n",
       "│ 6   │ 5 │ 5 │ 0.0005 │ 0.005  │ 0.01   │ 6 │ 13          │"
      ]
     },
     "execution_count": 11,
     "metadata": {},
     "output_type": "execute_result"
    }
   ],
   "source": [
    "head(results)"
   ]
  },
  {
   "cell_type": "markdown",
   "metadata": {},
   "source": [
    "To build the data required for the linear modeling, we group the data by each parameter setting and calculate the time the network takes to reach 95% activation."
   ]
  },
  {
   "cell_type": "code",
   "execution_count": 12,
   "metadata": {},
   "outputs": [
    {
     "data": {
      "text/html": [
       "<table class=\"data-frame\"><thead><tr><th></th><th>s</th><th>w</th><th>alpha</th><th>beta_w</th><th>beta_s</th><th>T95</th></tr></thead><tbody><tr><th>1</th><td>5</td><td>5</td><td>0.0005</td><td>0.005</td><td>0.01</td><td>110</td></tr><tr><th>2</th><td>5</td><td>5</td><td>0.0005</td><td>0.005</td><td>0.04</td><td>43</td></tr><tr><th>3</th><td>5</td><td>5</td><td>0.0005</td><td>0.005</td><td>0.07</td><td>29</td></tr><tr><th>4</th><td>5</td><td>5</td><td>0.0005</td><td>0.01</td><td>0.01</td><td>84</td></tr><tr><th>5</th><td>5</td><td>5</td><td>0.0005</td><td>0.01</td><td>0.04</td><td>41</td></tr><tr><th>6</th><td>5</td><td>5</td><td>0.0005</td><td>0.01</td><td>0.07</td><td>26</td></tr></tbody></table>"
      ],
      "text/plain": [
       "6×6 DataFrames.DataFrame\n",
       "│ Row │ s │ w │ alpha  │ beta_w │ beta_s │ T95 │\n",
       "├─────┼───┼───┼────────┼────────┼────────┼─────┤\n",
       "│ 1   │ 5 │ 5 │ 0.0005 │ 0.005  │ 0.01   │ 110 │\n",
       "│ 2   │ 5 │ 5 │ 0.0005 │ 0.005  │ 0.04   │ 43  │\n",
       "│ 3   │ 5 │ 5 │ 0.0005 │ 0.005  │ 0.07   │ 29  │\n",
       "│ 4   │ 5 │ 5 │ 0.0005 │ 0.01   │ 0.01   │ 84  │\n",
       "│ 5   │ 5 │ 5 │ 0.0005 │ 0.01   │ 0.04   │ 41  │\n",
       "│ 6   │ 5 │ 5 │ 0.0005 │ 0.01   │ 0.07   │ 26  │"
      ]
     },
     "execution_count": 12,
     "metadata": {},
     "output_type": "execute_result"
    }
   ],
   "source": [
    "all_engaged = by(results, [:s, :w, :alpha, :beta_w, :beta_s], df -> DataFrame(T95 = maximum(df[:t])));\n",
    "head(all_engaged)"
   ]
  },
  {
   "cell_type": "markdown",
   "metadata": {},
   "source": [
    "We then run a simple linear model on the data"
   ]
  },
  {
   "cell_type": "code",
   "execution_count": 14,
   "metadata": {},
   "outputs": [
    {
     "data": {
      "text/plain": [
       "DataFrames.DataFrameRegressionModel{GLM.LinearModel{GLM.LmResp{Array{Float64,1}},GLM.DensePredChol{Float64,Base.LinAlg.Cholesky{Float64,Array{Float64,2}}}},Array{Float64,2}}\n",
       "\n",
       "Formula: T95 ~ 1 + s + w + alpha + beta_s + beta_w\n",
       "\n",
       "Coefficients:\n",
       "              Estimate Std.Error  t value Pr(>|t|)\n",
       "(Intercept)    60.1885   2.15814  27.8891   <1e-76\n",
       "s            -0.724794 0.0526233 -13.7733   <1e-31\n",
       "w            -0.411008 0.0526233 -7.81038   <1e-12\n",
       "alpha         -817.414   132.943  -6.1486    <1e-8\n",
       "beta_s        -321.605   21.0493 -15.2786   <1e-36\n",
       "beta_w        -596.296   126.296 -4.72142    <1e-5\n"
      ]
     },
     "execution_count": 14,
     "metadata": {},
     "output_type": "execute_result"
    }
   ],
   "source": [
    "ols = lm(@formula(T95 ~ s + w + alpha + beta_s + beta_w), all_engaged)"
   ]
  },
  {
   "cell_type": "markdown",
   "metadata": {},
   "source": [
    "These results indicate that both strong ties and weak ties have an equally important role in the speedy diffusion of information. As the authors note, this happens despite the inferiority of the weak ties parameter in the model assumptions."
   ]
  }
 ],
 "metadata": {
  "kernelspec": {
   "display_name": "Julia 0.6.2",
   "language": "julia",
   "name": "julia-0.6"
  },
  "language_info": {
   "file_extension": ".jl",
   "mimetype": "application/julia",
   "name": "julia",
   "version": "0.6.2"
  }
 },
 "nbformat": 4,
 "nbformat_minor": 2
}
