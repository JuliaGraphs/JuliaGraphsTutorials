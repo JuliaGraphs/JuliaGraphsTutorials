{
 "cells": [
  {
   "cell_type": "markdown",
   "metadata": {},
   "source": [
    "*Note: In this workbook, we try to replicate the results from the classic paper \"Talk of the Network: A Complex Systems Look at the Underlying Process of Word-of-Mouth\", Goldenberg, Libai and Muller (2001). This is a self-didactic attempt.*"
   ]
  },
  {
   "cell_type": "code",
   "execution_count": null,
   "metadata": {},
   "outputs": [],
   "source": [
    "] add LightGraphs Distributions DataFrames GLM ProgressMeter"
   ]
  },
  {
   "cell_type": "code",
   "execution_count": null,
   "metadata": {},
   "outputs": [],
   "source": [
    "using LightGraphs\n",
    "\n",
    "using Distributions, DataFrames, GLM, ProgressMeter\n",
    "using Dates\n",
    "using Random: shuffle, seed!"
   ]
  },
  {
   "cell_type": "code",
   "execution_count": null,
   "metadata": {},
   "outputs": [],
   "source": [
    "seed!(20130810);"
   ]
  },
  {
   "cell_type": "markdown",
   "metadata": {},
   "source": [
    "# 1. Introduction \n",
    "\n",
    "In [Talk of the Network](https://www0.gsb.columbia.edu/mygsb/faculty/research/pubfiles/3391/TalkofNetworks.pdf), the authors  explore the pattern of personal communication between an individual's core friends group (strong ties) and a wider set of acquaintances (weak ties). This remarkable study is one of the first ones in marketing that explored the influence of social networks on the diffusion of marketing messages. The key questions investigated in this paper are:\n",
    "\n",
    "- What matters more - strong ties or weak ties?\n",
    "- What effect does the size of an average individuals network have?\n",
    "- How does advertising interact with the diffusion through weak ties and that through strong ties\n",
    "\n",
    "In this workbook, we focus on replicating the efforts of the authors to answer the first question: do strong ties or weak ties influence the speed of information dissemination in a network?"
   ]
  },
  {
   "cell_type": "markdown",
   "metadata": {},
   "source": [
    "# 2. Initializing the network"
   ]
  },
  {
   "cell_type": "markdown",
   "metadata": {},
   "source": [
    "This study employs a large number of synthetic networks as substrates to study the diffusion of information diffusion. To quote the authors logic to create and initialize the networks:\n",
    "\n",
    "> *\"Each individual belongs to a single personal network. Each network consists of individuals who are connected by strong ties. In each period, individuals also conduct a finte number of weak tie interactions outside their personal networks... We divide the entire market equally into personal networks, in which each individual can belong to one network. In addition, in each period, every individual conducts random meetings with individuals external to his personal network.\"*\n",
    "\n",
    "Given this specification, we utilize the built-in complete graph generator from [LightGraphs](http://juliagraphs.github.io/LightGraphs.jl/latest/generators.html#Graph-Generators-1) to build several mini-regular networks and then allow individuals in each of these mini-networks to mingle. Our final data structure is hence a vector of several complete networks that are built based on the number of strong ties for each individual. Note that each individual in the network has a fixed number of strong ties ($s$) and weak ties ($w$)."
   ]
  },
  {
   "cell_type": "code",
   "execution_count": null,
   "metadata": {},
   "outputs": [],
   "source": [
    "function initialize_network(n_nodes::Int, n_strong_ties::Int)\n",
    "    \n",
    "    G = [CompleteGraph(n_strong_ties) for g in 1:floor(Int, n_nodes/n_strong_ties)]\n",
    "\n",
    "    return G\n",
    "end"
   ]
  },
  {
   "cell_type": "markdown",
   "metadata": {},
   "source": [
    "# 3. Model\n",
    "\n",
    "## 3.1 Assumptions\n",
    "\n",
    "The probability of activation of a node, i.e., an uninformed individual turning to informed can happen in three ways: through a strong tie with probability $\\beta_s$, through a weak tie with probability $\\beta_w$ or through external marketing efforts with probability $\\alpha$. In line with conventional wisdom, the authors assume $\\alpha < \\beta_w < \\beta_s$. \n",
    "\n",
    "At timestep $t$, if an individual is connected to $m$ strong ties and $j$ weak ties, the probability of the individual being informed in this time step is:\n",
    "\n",
    "$$\n",
    "p(t) = 1 - (1- \\alpha)(1 - \\beta_w)^j(1 - \\beta_s)^m\n",
    "$$\n",
    "\n",
    "The outcome variable of interest is the number of time steps elapsed till 95% of the network engages."
   ]
  },
  {
   "cell_type": "markdown",
   "metadata": {},
   "source": [
    "## 3.2 Execution\n",
    "\n",
    "Following our earlier discussion on the construction of substrate networks, each node in the network belongs to a complete sub-network. In addition, at each time step each node interacts with a fixed number of weak ties chosen at random from sub-networks other than its own.\n",
    "\n",
    "*Step 1:* At $t = 0$, the status of all nodes is set to `false`\n",
    "\n",
    "*Step 2:* For each node, the probability $p(t)$ of being informed is calculated using the above equation. A random draw $U$ is made from a standard uniform distribution and compared with $p(t)$. If $U < p(t)$ the status of the node is changed to `true`\n",
    "\n",
    "*Step 3:* In each successive time step, Step 2 is repeated till 95% of the total network (of size 3000) engages"
   ]
  },
  {
   "cell_type": "markdown",
   "metadata": {},
   "source": [
    "We now look at several helper functions that execute the above logic\n",
    "\n",
    "### 3.2.1 Reset node status\n",
    "\n",
    "The node status is stored as a vector of `BitVector`'s. At the beginning of each simulation run, we call the following function to set the status of all the nodes to `false`. "
   ]
  },
  {
   "cell_type": "code",
   "execution_count": null,
   "metadata": {},
   "outputs": [],
   "source": [
    "function reset_node_status(G::Vector{LightGraphs.SimpleGraphs.SimpleGraph{Int}})\n",
    "\n",
    "    node_status = [falses(nv(g)) for g in G]\n",
    "\n",
    "    return node_status\n",
    "end"
   ]
  },
  {
   "cell_type": "markdown",
   "metadata": {},
   "source": [
    "### 3.2.2 Updating status of the nodes\n",
    "\n",
    "At each time step, we execute two tasks. First, we allow the nodes to mingle randomly with their strong ties and with weak ties from other sub-networks. At this point, we count the number of active strong and weak ties for each node. Then, we use this information to update the status of all the nodes in the network.\n",
    "\n",
    "The first function counts the number of active strong ties within the node's sub-network. The second function executes the \"random meetings\" with weak ties as discussed in the paper. For each node we generate a random sample (without replacement) of size $w$ from sub-networks other than its own. We then count the number of active ties in its own sub-network and among the random sample taken from the rest of the network."
   ]
  },
  {
   "cell_type": "code",
   "execution_count": null,
   "metadata": {},
   "outputs": [],
   "source": [
    "function count_active_str_ties(G::Vector{LightGraphs.SimpleGraphs.SimpleGraph{Int}},\n",
    "                               node_network_id::Int,\n",
    "                               node::Int,\n",
    "                               node_status::Vector{BitVector})\n",
    "    n_active_str_ties = sum([node_status[node_network_id][nbr] for nbr in neighbors(G[node_network_id], node)])\n",
    "\n",
    "    return n_active_str_ties\n",
    "end"
   ]
  },
  {
   "cell_type": "code",
   "execution_count": null,
   "metadata": {},
   "outputs": [],
   "source": [
    "function random_meetings(G::Vector{LightGraphs.SimpleGraphs.SimpleGraph{Int}},\n",
    "                         node_network_id::Int,\n",
    "                         node::Int,\n",
    "                         node_status::Vector{BitVector},\n",
    "                         n_weak_ties::Int)\n",
    "\n",
    "    # Choose a random sample of size `n_weak_ties` from the other sub-networks and query\n",
    "    # their status. We first sample the network id, and use this to sample a random node\n",
    "    # in the sub-network defined by this id.\n",
    "\n",
    "    all_network_ids = 1:length(G)\n",
    "\n",
    "    other_network_ids = all_network_ids[all_network_ids .!= node_network_id]\n",
    "    possible_weak_ties = []\n",
    "    nsamples = 1\n",
    "\n",
    "    while nsamples < n_weak_ties\n",
    "        rand_network_id = sample(other_network_ids)\n",
    "        rand_nbr = sample(vertices(G[rand_network_id]))\n",
    "        if !((rand_network_id, rand_nbr) in possible_weak_ties)\n",
    "            push!(possible_weak_ties, (rand_network_id, rand_nbr))\n",
    "            nsamples += 1\n",
    "        end\n",
    "    end\n",
    "\n",
    "    n_active_wk_ties = sum([node_status[network_id][weak_tie] for (network_id, weak_tie) in possible_weak_ties])\n",
    "\n",
    "    return n_active_wk_ties\n",
    "end"
   ]
  },
  {
   "cell_type": "markdown",
   "metadata": {},
   "source": [
    "Finally, the function below conducts the updation of the status of all the nodes at each time step by calculating the probability of activation. "
   ]
  },
  {
   "cell_type": "code",
   "execution_count": null,
   "metadata": {},
   "outputs": [],
   "source": [
    "function update_status!(G::Vector{LightGraphs.SimpleGraphs.SimpleGraph{Int}},\n",
    "                        node_status::Vector{BitVector},\n",
    "                        n_weak_ties::Int,\n",
    "                        alpha::Float64, beta_w::Float64, beta_s::Float64)\n",
    "\n",
    "    # assuming that the nodes update in random order\n",
    "\n",
    "    for node_network_id in shuffle(1:length(G))\n",
    "        for node in shuffle(vertices(G[node_network_id]))\n",
    "            n_active_str_ties = count_active_str_ties(G, node_network_id, node, node_status)\n",
    "            n_active_wk_ties = random_meetings(G, node_network_id, node, node_status, n_weak_ties)\n",
    "\n",
    "            activation_prob = 1 - (1 - alpha) * (1 - beta_w)^n_active_wk_ties * (1 - beta_s)^n_active_str_ties\n",
    "\n",
    "            if rand(Uniform()) < activation_prob\n",
    "                node_status[node_network_id][node] = true\n",
    "            end\n",
    "        end\n",
    "    end\n",
    "\n",
    "    return nothing\n",
    "end"
   ]
  },
  {
   "cell_type": "markdown",
   "metadata": {},
   "source": [
    "### 3.2.4 Simulation on the parameter space\n",
    "\n",
    "The function `execute_simulation` puts together the scaffolding to set up the parameter space $(s, w, \\alpha, \\beta_w, \\beta_s)$ and execute diffusion along the network. From what I can gather from the paper, one simulation was carried out at each point on the parameter space. No further details regarding the execution are mentioned except that since each parameter has 7 levels, a total of $7^5 = 16,807$ simulations were executed in a factorial design. In this workbook, we work on a smaller parameter space using 3 levels for each parameter.\n",
    "\n",
    "Also, I am assuming that the network is drawn at random for each run of the simulation.\n",
    "\n",
    "One more interesting thing to note: The authors mention that their simulations were written in C, it would be interesting to compare the execution times with Julia. This is a non-standard problem that tests both the robustness of Julia types and its execution speed (maybe this will prompt someone to make a pull request!)."
   ]
  },
  {
   "cell_type": "code",
   "execution_count": null,
   "metadata": {},
   "outputs": [],
   "source": [
    "println(\"Number of strong ties per node (s): \", floor.(Int, range(5, stop=29, length=3)))\n",
    "println(\"Number of weak ties per node(w): \", floor.(Int, range(5, stop=29, length=3)))\n",
    "println(\"Effect of advertising (α): \", collect(range(0.0005, stop=0.01, length=3)))\n",
    "println(\"Effect of weak ties (β_w): \", collect(range(0.005, stop=0.015, length=3)))\n",
    "println(\"Effect of strong ties (β_s): \", collect(range(0.01, stop=0.07, length=3)))"
   ]
  },
  {
   "cell_type": "code",
   "execution_count": null,
   "metadata": {},
   "outputs": [],
   "source": [
    "parameter_space = [(s, w, alpha, beta_w, beta_s) for s in floor.(Int, range(5, stop=29, length=3)), \n",
    "                                                     w in floor.(Int, range(5, stop=29, length=3)),\n",
    "                                                     alpha in range(0.0005, stop=0.01, length=3),\n",
    "                                                     beta_w in range(0.005, stop=0.015, length=3),\n",
    "                                                     beta_s in range(0.01, stop=0.07, length=3)]\n",
    "\n",
    "size(parameter_space), length(parameter_space)"
   ]
  },
  {
   "cell_type": "code",
   "execution_count": null,
   "metadata": {},
   "outputs": [],
   "source": [
    "function execute_simulation(parameter_space, n_nodes::Int)\n",
    "\n",
    "    # n_nodes dictates how big the network will be\n",
    "    # We cannot pre-allocate the output since we do not know for how many time steps the simulation will\n",
    "    # run at each setting\n",
    "\n",
    "    output = DataFrame(s = Int[], w = Int[], alpha = Float64[],\n",
    "                       beta_w = Float64[], beta_s = Float64[],\n",
    "                       t = Int[], num_engaged = Int[])\n",
    "\n",
    "    println(\"Beginning simulation at : \", Dates.format(now(), \"HH:MM\"))\n",
    "    println(\"You might want to grab a cup of coffee while Julia brews the simulation...\")\n",
    "\n",
    "    @showprogress 1 \"Crunching numbers while you munch...\" for (s, w, alpha, beta_w, beta_s) in parameter_space[1:end]\n",
    "\n",
    "        G = initialize_network(n_nodes, s)\n",
    "\n",
    "        node_status = reset_node_status(G)\n",
    "\n",
    "        num_engaged = sum(sum(node_status))\n",
    "\n",
    "        t = 1\n",
    "\n",
    "        # Continue updates at each setting till 95% of the network engages\n",
    "\n",
    "        while num_engaged < floor(Int, 0.95 * n_nodes)\n",
    "            update_status!(G, node_status, w, alpha, beta_w, beta_s)\n",
    "            num_engaged = sum(sum(node_status))\n",
    "            push!(output, [s, w, alpha, beta_w, beta_s, t, num_engaged])\n",
    "            t += 1\n",
    "        end\n",
    "    end\n",
    "\n",
    "    return output\n",
    "end"
   ]
  },
  {
   "cell_type": "code",
   "execution_count": null,
   "metadata": {},
   "outputs": [],
   "source": [
    "results = execute_simulation(parameter_space, 3000)"
   ]
  },
  {
   "cell_type": "markdown",
   "metadata": {},
   "source": [
    "# 4. Discussion\n",
    "\n",
    "To answer the research questions, the authors resort to simple linear regression. \n",
    "\n",
    "Since our focus in this workbook is on highlighting the strengths of the JuliaGraphs ecosystem, we keep the regression modeling at the most basic level.\n",
    "\n",
    "As discussed earlier, the outcome is the time taken for 95% of the network to engage with the message. The features used to predict this outcome are $s$, $w$, $\\alpha$, $\\beta_w$ and $\\beta_S$. "
   ]
  },
  {
   "cell_type": "code",
   "execution_count": null,
   "metadata": {},
   "outputs": [],
   "source": [
    "first(results, 10)"
   ]
  },
  {
   "cell_type": "markdown",
   "metadata": {},
   "source": [
    "To build the data required for the linear modeling, we group the data by each parameter setting and calculate the time the network takes to reach 95% activation."
   ]
  },
  {
   "cell_type": "code",
   "execution_count": null,
   "metadata": {},
   "outputs": [],
   "source": [
    "all_engaged = combine(groupby(results, [:s, :w, :alpha, :beta_w, :beta_s]), df -> DataFrame(T95 = maximum(df[!,:t])));\n",
    "first(all_engaged, 10)"
   ]
  },
  {
   "cell_type": "markdown",
   "metadata": {},
   "source": [
    "We then run a simple linear model on the data"
   ]
  },
  {
   "cell_type": "code",
   "execution_count": null,
   "metadata": {},
   "outputs": [],
   "source": [
    "ols = lm(@formula(T95 ~ s + w + alpha + beta_s + beta_w), all_engaged)"
   ]
  },
  {
   "cell_type": "code",
   "execution_count": null,
   "metadata": {},
   "outputs": [],
   "source": [
    "r2(ols)"
   ]
  },
  {
   "cell_type": "markdown",
   "metadata": {},
   "source": [
    "This is a rather strong finding. The speed of information diffusion is impacted equally strongly by both strong ties and weak ties. As the authors note, the surprising aspect of this strudy is that the effect of weak ties is rather strong despite the inferiority of the weak ties parameter in the model assumptions."
   ]
  }
 ],
 "metadata": {
  "kernelspec": {
   "display_name": "Julia 1.7.0-DEV",
   "language": "julia",
   "name": "julia-1.7"
  },
  "language_info": {
   "file_extension": ".jl",
   "mimetype": "application/julia",
   "name": "julia",
   "version": "1.7.0"
  }
 },
 "nbformat": 4,
 "nbformat_minor": 2
}
