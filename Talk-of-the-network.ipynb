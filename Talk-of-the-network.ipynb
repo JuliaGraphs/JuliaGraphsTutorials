{
 "cells": [
  {
   "cell_type": "markdown",
   "metadata": {},
   "source": [
    "*Note: This script is an effort to replicate the results from the paper \"Talk of the Network: A Complex Systems Look at the Underlying Process of Word-of-Mouth\", Goldenberg, Libai and Muller (2001). This is a self-didactic attempt.*"
   ]
  },
  {
   "cell_type": "code",
   "execution_count": null,
   "metadata": {},
   "outputs": [],
   "source": [
    "using Distributions"
   ]
  },
  {
   "cell_type": "code",
   "execution_count": null,
   "metadata": {},
   "outputs": [],
   "source": [
    "srand(20130810)"
   ]
  },
  {
   "cell_type": "markdown",
   "metadata": {},
   "source": [
    "# 1. Introduction \n",
    "\n",
    "This paper explores the pattern of personal communication betwee an individual's core friends group (strong ties) and a wider set of acquaintances (weak ties). This remarkable study is one of the first ones in marketing that explored the influence of social networks on the diffusion of marketing messages. The key questions investogated in the context of information dissemination are:\n",
    "\n",
    "- What matters more - strong ties or weak ties?\n",
    "- What effect does the size of an average individuals network have?\n",
    "- How does advertising interact with the diffusion through weak ties and that through strong ties"
   ]
  },
  {
   "cell_type": "markdown",
   "metadata": {},
   "source": [
    "# 2. Building the network substrates\n",
    "\n",
    "## 2.1 The node object\n",
    "\n",
    "Since this study employs a set of synthetic networks, where each of the nodes have a fixed number of strong ties ($s$) and weak ties ($w$), we cannot use existing graph types to build these networks. However, given the simple configuration of the network, we conceptualize a network as a list of node objects. Each node object has the id, a vector of strong ties, a vector of weak ties and activation status as the parameters of the node. "
   ]
  },
  {
   "cell_type": "code",
   "execution_count": null,
   "metadata": {
    "collapsed": true
   },
   "outputs": [],
   "source": [
    "mutable struct Node\n",
    "    id::Int\n",
    "    weak_ties::Vector{Int} \n",
    "    strong_ties::Vector{Int} \n",
    "    status::Bool\n",
    "    activation_prob::Float64\n",
    "end"
   ]
  },
  {
   "cell_type": "markdown",
   "metadata": {},
   "source": [
    "## 2.2 Initializing the network\n",
    "\n",
    "We initialize the network as a list of empty `Node` objects and then build the neighborhoods of individual nodes by adhering to the number of strong and weak ties that each `Node` has."
   ]
  },
  {
   "cell_type": "code",
   "execution_count": null,
   "metadata": {},
   "outputs": [],
   "source": [
    "function initialize_network(n_nodes::Int, n_strong_ties::Int, n_weak_ties::Int)\n",
    "    \n",
    "    # Initialize an empty network\n",
    "    \n",
    "    G = [Node(i, [], [], false, 0.0) for i in 1:n_nodes] \n",
    "    node_ids = [node.id for node in G]\n",
    "    \n",
    "    # Wire the network according to the number of strong and weak ties\n",
    "    # When wiring with random nodes, take care that the subject node and\n",
    "    # already existing neighbors are not sampled again\n",
    "    \n",
    "    for node in G\n",
    "        while length(node.weak_ties) < n_weak_ties\n",
    "            rand_nbr = sample(node_ids[1:end .!= node.id])\n",
    "            if !(rand_nbr in node.weak_ties || rand_nbr in node.strong_ties)\n",
    "                push!(node.weak_ties, rand_nbr)\n",
    "            end\n",
    "        end\n",
    "        while length(node.strong_ties) < n_strong_ties\n",
    "            rand_nbr = sample(node_ids[1:end .!= node.id])\n",
    "            if !(rand_nbr in node.weak_ties || rand_nbr in node.strong_ties)\n",
    "                push!(node.strong_ties, rand_nbr)\n",
    "            end\n",
    "        end\n",
    "    end\n",
    "    \n",
    "    return G\n",
    "end"
   ]
  },
  {
   "cell_type": "markdown",
   "metadata": {},
   "source": [
    "# 3. Model\n",
    "\n",
    "## 3.1 Assumptions\n",
    "\n",
    "Each individual in the substrate network (referred to as nodes) are connected to the same number of strong ties (varied from 5 - 29) and weak ties (varied from 5 - 29). The probability of activation of a node, i.e., an uninformed individual turning to informed can happen in three ways: through a strong tie with probability $\\beta_s$, through a weak tie with probability $\\beta_w$ or through external marketing efforts with probability $\\alpha$. In line with conventional wisdom, we assume $\\alpha < \\beta_w < \\beta_s$. \n",
    "\n",
    "At timestep $t$, if an individual is connected to $m$ strong ties and $j$ weak ties, the probability of the individual being informed in this time step is:\n",
    "\n",
    "$$\n",
    "p(t) = 1 - (1- \\alpha)(1 - \\beta_w)^j(1 - \\beta_s)^m\n",
    "$$\n",
    "\n",
    "We are interested in two outcome variables:\n",
    "1. The number of time steps elapsed till 15% of the network engages \n",
    "2. The number of time steps elapsed till 95% of the network engages"
   ]
  },
  {
   "cell_type": "markdown",
   "metadata": {},
   "source": [
    "## 3.3 Execution\n",
    "\n",
    "- At $t = 0$, the status of all nodes is set to `false`\n",
    "\n",
    "- For each node, the probability of being informed is calculated as per the above equation. A random draw $U$ is made from a standard uniform distribution and compared with the probability. If $U < p(t)$ the status of the node is changed to `true`\n",
    "\n",
    "- In each successive time step the previous step is repeated till 95% of the total network (of size 3000) engages"
   ]
  },
  {
   "cell_type": "markdown",
   "metadata": {},
   "source": [
    "We now look at several helper functions that execute the above logic\n",
    "\n",
    "### 3.3.1 Reset node status\n",
    "\n",
    "At the beginning of each simulation, we call the following function to set the status of all the nodes to `false`. This is required if we wish to run more than one simulation at each point in the parameter space."
   ]
  },
  {
   "cell_type": "code",
   "execution_count": null,
   "metadata": {},
   "outputs": [],
   "source": [
    "function reset_node_status!(G::Vector{Node})\n",
    "    for node in G\n",
    "        node.status = false\n",
    "    end\n",
    "    \n",
    "    return nothing\n",
    "end"
   ]
  },
  {
   "cell_type": "markdown",
   "metadata": {},
   "source": [
    "### 3.3.2 Activation probability\n",
    "\n",
    "At each time step, the vector holding the probabilty of activation for each node is calculated using the following function. We count the number of activated strong and weak ties for each node and use the above formula to compute the activation probability."
   ]
  },
  {
   "cell_type": "code",
   "execution_count": null,
   "metadata": {},
   "outputs": [],
   "source": [
    "function update_activation_prob!(G::Vector{Node}, alpha::Float64, beta_w::Float64, beta_s::Float64)\n",
    "    \n",
    "    for node in G\n",
    "\n",
    "        n_active_weak_ties, n_active_strong_ties = 0, 0\n",
    "        \n",
    "        weak_ties = G[node.weak_ties]\n",
    "        strong_ties = G[node.strong_ties]\n",
    "\n",
    "        for weak_tie in weak_ties\n",
    "            if weak_tie.status == true\n",
    "                n_active_weak_ties += 1\n",
    "            end\n",
    "        end\n",
    "\n",
    "        for strong_tie in strong_ties\n",
    "            if strong_tie.status == true\n",
    "                n_active_strong_ties += 1\n",
    "            end\n",
    "        end\n",
    "\n",
    "        node.activation_prob = 1 - (1 - alpha) * (1 - beta_w)^n_active_weak_ties * (1 - beta_s)^n_active_strong_ties\n",
    "\n",
    "    end \n",
    "    \n",
    "    return nothing\n",
    "end"
   ]
  },
  {
   "cell_type": "markdown",
   "metadata": {},
   "source": [
    "### 3.3.3 Update node status\n",
    "\n",
    "At each time step the status of all the nodes is updated according to the calculated probability of activation. "
   ]
  },
  {
   "cell_type": "code",
   "execution_count": null,
   "metadata": {},
   "outputs": [],
   "source": [
    "function update_status!(G::Vector{Node}, alpha::Float64, beta_w::Float64, beta_s::Float64)\n",
    "    for node in G\n",
    "        update_activation_prob!(G, alpha, beta_w, beta_s)\n",
    "        \n",
    "        if rand(Uniform()) < node.activation_prob\n",
    "            node.status = true\n",
    "        end\n",
    "    end\n",
    "    \n",
    "    return nothing\n",
    "end"
   ]
  },
  {
   "cell_type": "markdown",
   "metadata": {},
   "source": [
    "### 3.3.4 Simulation on the parameter space\n",
    "\n",
    "The function `execute_simulation` puts together the scaffolding to set up the parameter space $(s, w, \\alpha, \\beta_w, \\beta_s)$ and execute diffusion along the network. From what I can gather from the paper, one simulation was carried out at each point on the parameter space. No further details regarding the execution are mentioned except that since each parameter has 7 levels, so in a factorial design a total of $7^5 = 16,808$ simulations were executed.\n",
    "\n",
    "Also, I am assuming that the network is drawn at random for each run of the simulation."
   ]
  },
  {
   "cell_type": "code",
   "execution_count": null,
   "metadata": {},
   "outputs": [],
   "source": [
    "println(\"Number of strong ties per node (s): \", floor.(Int, linspace(5, 29, 7)))\n",
    "println(\"Number of weak ties per node(w): \", floor.(Int, linspace(5, 29, 7)))\n",
    "println(\"Effect of advertising (α): \", collect(linspace(0.0005, 0.01, 7)))\n",
    "println(\"Effect of weak ties (β_w): \", collect(linspace(0.005, 0.015, 7)))\n",
    "println(\"Effect of strong ties (β_s): \", collect(linspace(0.01, 0.07, 7)))"
   ]
  },
  {
   "cell_type": "code",
   "execution_count": null,
   "metadata": {},
   "outputs": [],
   "source": [
    "parameter_space = [(s, w, alpha, beta_w, beta_s) for s in floor.(Int, linspace(5, 29, 7)), \n",
    "                                                     w in floor.(Int, linspace(5, 29, 7)),\n",
    "                                                     alpha in linspace(0.0005, 0.01, 7),\n",
    "                                                     beta_w in linspace(0.005, 0.015, 7),\n",
    "                                                     beta_s in linspace(0.01, 0.07, 7)]\n",
    "\n",
    "size(parameter_space), length(parameter_space)"
   ]
  },
  {
   "cell_type": "code",
   "execution_count": null,
   "metadata": {},
   "outputs": [],
   "source": [
    "function execute_simulation(parameter_space, n_nodes::Int, T::Int)\n",
    "    \n",
    "    # n_nodes dictates how big the network will be\n",
    "    # T dictates the number of time steps for the simulation    \n",
    "    \n",
    "    output = Matrix{Any}(length(parameter_space) * T, 7)\n",
    "    colnames = [\"s\", \"w\", \"alpha\", \"beta_w\", \"beta_s\", \"t\", \"num_engaged\"]\n",
    "    i = 1 # Index the output\n",
    "    \n",
    "    # Rewiring the network each time is expensive. We can cut down repeats of the same rewiring process\n",
    "    # by building the network only when the parameters used to build the network have changed.\n",
    "    \n",
    "    old_s, old_w = parameter_space[1][1:2]\n",
    "    G = initialize_network(n_nodes, old_s, old_w)\n",
    "    \n",
    "    for (s, w, alpha, beta_w, beta_s) in parameter_space[1:end]\n",
    "        \n",
    "        # Rewire the network only if the network creation parameters have changed\n",
    "        # Once initialize_network is fast, this portion of the code can be removed\n",
    "        \n",
    "        if !(old_s == s && old_w == w)\n",
    "            G = initialize_network(n_nodes, s, w)\n",
    "        end\n",
    "        reset_node_status!(G)\n",
    "        \n",
    "        println(\"Beginning simulation on setting $((s, w, alpha, beta_w, beta_s)) at : \", Dates.format(now(), \"HH:MM\"))\n",
    "        for t in 1:T\n",
    "            update_status!(G, alpha, beta_w, beta_s)\n",
    "            num_engaged = sum([node.status for node in G])\n",
    "            output[i, :] = [s, w, alpha, beta_w, beta_s, t, num_engaged]\n",
    "            i += 1\n",
    "        end\n",
    "    \n",
    "        old_s, old_w = s, w\n",
    "    end\n",
    "    \n",
    "    return [colnames; output]\n",
    "end"
   ]
  },
  {
   "cell_type": "code",
   "execution_count": null,
   "metadata": {},
   "outputs": [],
   "source": [
    "@time results = execute_simulation(parameter_space, 3000, 10)"
   ]
  },
  {
   "cell_type": "code",
   "execution_count": null,
   "metadata": {
    "collapsed": true
   },
   "outputs": [],
   "source": []
  }
 ],
 "metadata": {
  "kernelspec": {
   "display_name": "Julia 0.6.2",
   "language": "julia",
   "name": "julia-0.6"
  },
  "language_info": {
   "file_extension": ".jl",
   "mimetype": "application/julia",
   "name": "julia",
   "version": "0.6.2"
  }
 },
 "nbformat": 4,
 "nbformat_minor": 2
}
