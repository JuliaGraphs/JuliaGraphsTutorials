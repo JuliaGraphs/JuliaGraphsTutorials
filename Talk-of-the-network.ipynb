{
 "cells": [
  {
   "cell_type": "markdown",
   "metadata": {},
   "source": [
    "*Note: In this workbook, we try to replicate the results from the classic paper \"Talk of the Network: A Complex Systems Look at the Underlying Process of Word-of-Mouth\", Goldenberg, Libai and Muller (2001). This is a self-didactic attempt.*"
   ]
  },
  {
   "cell_type": "code",
   "execution_count": 1,
   "metadata": {},
   "outputs": [],
   "source": [
    "using LightGraphs\n",
    "using Distributions, DataFrames, GLM, ProgressMeter"
   ]
  },
  {
   "cell_type": "code",
   "execution_count": 2,
   "metadata": {},
   "outputs": [
    {
     "data": {
      "text/plain": [
       "MersenneTwister(UInt32[0x01332bfa], Base.dSFMT.DSFMT_state(Int32[-1772545288, 1073534108, 1077066014, 1072915095, -2146195133, 1072843413, 301764553, 1073404181, 750472136, 1073628106  …  -1491411563, 1073194977, 716119449, 1072893711, 1632331784, 758890923, 1433693833, -13012230, 382, 0]), [1.78489, 1.5542, 1.35631, 1.77878, 1.24547, 1.36021, 1.42208, 1.76401, 1.06559, 1.4911  …  1.07875, 1.25437, 1.18106, 1.8819, 1.05411, 1.84096, 1.1858, 1.39997, 1.85313, 1.58849], 382)"
      ]
     },
     "execution_count": 2,
     "metadata": {},
     "output_type": "execute_result"
    }
   ],
   "source": [
    "srand(20130810)"
   ]
  },
  {
   "cell_type": "markdown",
   "metadata": {},
   "source": [
    "# 1. Introduction \n",
    "\n",
    "In [Talk of the Network](https://www0.gsb.columbia.edu/mygsb/faculty/research/pubfiles/3391/TalkofNetworks.pdf), the authors  explore the pattern of personal communication between an individual's core friends group (strong ties) and a wider set of acquaintances (weak ties). This remarkable study is one of the first ones in marketing that explored the influence of social networks on the diffusion of marketing messages. The key questions investigated in this paper are:\n",
    "\n",
    "- What matters more - strong ties or weak ties?\n",
    "- What effect does the size of an average individuals network have?\n",
    "- How does advertising interact with the diffusion through weak ties and that through strong ties\n",
    "\n",
    "In this workbook, we focus on replicating the efforts of the authors to answer the first question: do strong ties or weak ties influence the speed of information dissemination in a network?"
   ]
  },
  {
   "cell_type": "markdown",
   "metadata": {},
   "source": [
    "# 2. Initializing the network"
   ]
  },
  {
   "cell_type": "markdown",
   "metadata": {},
   "source": [
    "This study employs a large number of synthetic networks as substrates to study the diffusion of information diffusion. To quote the authors logic to create and initialize the networks:\n",
    "\n",
    "> *\"Each individual belongs to a single personal network. Each network consists of individuals who are connected by strong ties. In each period, individuals also conduct a finte number of weak tie interactions outside their personal networks... We divide the entire market equally into personal networks, in which each individual can belong to one network. In addition, in each period, every individual conducts random meetings with individuals external to his personal network.\"*\n",
    "\n",
    "Given this specification, we utilize the built-in complete graph generator from [LightGraphs](http://juliagraphs.github.io/LightGraphs.jl/latest/generators.html#Graph-Generators-1) to build several mini-regular networks and then allow individuals in each of these mini-networks to mingle. Our final data structure is hence a vector of several complete networks that are built based on the number of strong ties for each individual. Note that each individual in the network has a fixed number of strong ties ($s$) and weak ties ($w$)."
   ]
  },
  {
   "cell_type": "code",
   "execution_count": 3,
   "metadata": {},
   "outputs": [
    {
     "data": {
      "text/plain": [
       "initialize_network (generic function with 1 method)"
      ]
     },
     "execution_count": 3,
     "metadata": {},
     "output_type": "execute_result"
    }
   ],
   "source": [
    "function initialize_network(n_nodes::Int, n_strong_ties::Int)\n",
    "    \n",
    "    G = [CompleteGraph(n_strong_ties) for g in 1:floor(Int, n_nodes/n_strong_ties)]\n",
    "\n",
    "    return G\n",
    "end"
   ]
  },
  {
   "cell_type": "markdown",
   "metadata": {},
   "source": [
    "# 3. Model\n",
    "\n",
    "## 3.1 Assumptions\n",
    "\n",
    "The probability of activation of a node, i.e., an uninformed individual turning to informed can happen in three ways: through a strong tie with probability $\\beta_s$, through a weak tie with probability $\\beta_w$ or through external marketing efforts with probability $\\alpha$. In line with conventional wisdom, the authors assume $\\alpha < \\beta_w < \\beta_s$. \n",
    "\n",
    "At timestep $t$, if an individual is connected to $m$ strong ties and $j$ weak ties, the probability of the individual being informed in this time step is:\n",
    "\n",
    "$$\n",
    "p(t) = 1 - (1- \\alpha)(1 - \\beta_w)^j(1 - \\beta_s)^m\n",
    "$$\n",
    "\n",
    "The outcome variable of interest is the number of time steps elapsed till 95% of the network engages."
   ]
  },
  {
   "cell_type": "markdown",
   "metadata": {},
   "source": [
    "## 3.2 Execution\n",
    "\n",
    "Following our earlier discussion on the construction of substrate networks, each node in the network belongs to a complete sub-network. In addition, at each time step each node interacts with a fixed number of weak ties chosen at random from sub-networks other than its own.\n",
    "\n",
    "*Step 1:* At $t = 0$, the status of all nodes is set to `false`\n",
    "\n",
    "*Step 2:* For each node, the probability $p(t)$ of being informed is calculated using the above equation. A random draw $U$ is made from a standard uniform distribution and compared with $p(t)$. If $U < p(t)$ the status of the node is changed to `true`\n",
    "\n",
    "*Step 3:* In each successive time step, Step 2 is repeated till 95% of the total network (of size 3000) engages"
   ]
  },
  {
   "cell_type": "markdown",
   "metadata": {},
   "source": [
    "We now look at several helper functions that execute the above logic\n",
    "\n",
    "### 3.2.1 Reset node status\n",
    "\n",
    "The node status is stored as a vector of `BitVector`'s. At the beginning of each simulation run, we call the following function to set the status of all the nodes to `false`. "
   ]
  },
  {
   "cell_type": "code",
   "execution_count": 4,
   "metadata": {},
   "outputs": [
    {
     "data": {
      "text/plain": [
       "reset_node_status (generic function with 1 method)"
      ]
     },
     "execution_count": 4,
     "metadata": {},
     "output_type": "execute_result"
    }
   ],
   "source": [
    "function reset_node_status(G::Vector{LightGraphs.SimpleGraphs.SimpleGraph{Int}})\n",
    "\n",
    "    node_status = [falses(nv(g)) for g in G]\n",
    "\n",
    "    return node_status\n",
    "end"
   ]
  },
  {
   "cell_type": "markdown",
   "metadata": {},
   "source": [
    "### 3.2.2 Updating status of the nodes\n",
    "\n",
    "At each time step, we execute two tasks. First, we allow the nodes to mingle randomly with their strong ties and with weak ties from other sub-networks. At this point, we count the number of active strong and weak ties for each node. Then, we use this information to update the status of all the nodes in the network.\n",
    "\n",
    "The first function counts the number of active strong ties within the node's sub-network. The second function executes the \"random meetings\" with weak ties as discussed in the paper. For each node we generate a random sample (without replacement) of size $w$ from sub-networks other than its own. We then count the number of active ties in its own sub-network and among the random sample taken from the rest of the network."
   ]
  },
  {
   "cell_type": "code",
   "execution_count": 5,
   "metadata": {},
   "outputs": [
    {
     "data": {
      "text/plain": [
       "count_active_str_ties (generic function with 1 method)"
      ]
     },
     "execution_count": 5,
     "metadata": {},
     "output_type": "execute_result"
    }
   ],
   "source": [
    "function count_active_str_ties(G::Vector{LightGraphs.SimpleGraphs.SimpleGraph{Int}},\n",
    "                               node_network_id::Int,\n",
    "                               node::Int,\n",
    "                               node_status::Vector{BitVector})\n",
    "    n_active_str_ties = sum([node_status[node_network_id][nbr] for nbr in neighbors(G[node_network_id], node)])\n",
    "\n",
    "    return n_active_str_ties\n",
    "end"
   ]
  },
  {
   "cell_type": "code",
   "execution_count": 6,
   "metadata": {},
   "outputs": [
    {
     "data": {
      "text/plain": [
       "random_meetings (generic function with 1 method)"
      ]
     },
     "execution_count": 6,
     "metadata": {},
     "output_type": "execute_result"
    }
   ],
   "source": [
    "function random_meetings(G::Vector{LightGraphs.SimpleGraphs.SimpleGraph{Int}},\n",
    "                         node_network_id::Int,\n",
    "                         node::Int,\n",
    "                         node_status::Vector{BitVector},\n",
    "                         n_weak_ties::Int)\n",
    "\n",
    "    # Choose a random sample of size `n_weak_ties` from the other sub-networks and query\n",
    "    # their status. We first sample the network id, and use this to sample a random node\n",
    "    # in the sub-network defined by this id.\n",
    "\n",
    "    all_network_ids = 1:length(G)\n",
    "\n",
    "    other_network_ids = all_network_ids[all_network_ids .!= node_network_id]\n",
    "    possible_weak_ties = []\n",
    "    nsamples = 1\n",
    "\n",
    "    while nsamples < n_weak_ties\n",
    "        rand_network_id = sample(other_network_ids)\n",
    "        rand_nbr = sample(vertices(G[rand_network_id]))\n",
    "        if !((rand_network_id, rand_nbr) in possible_weak_ties)\n",
    "            push!(possible_weak_ties, (rand_network_id, rand_nbr))\n",
    "            nsamples += 1\n",
    "        end\n",
    "    end\n",
    "\n",
    "    n_active_wk_ties = sum([node_status[network_id][weak_tie] for (network_id, weak_tie) in possible_weak_ties])\n",
    "\n",
    "    return n_active_wk_ties\n",
    "end"
   ]
  },
  {
   "cell_type": "markdown",
   "metadata": {},
   "source": [
    "Finally, the function below conducts the updation of the status of all the nodes at each time step by calculating the probability of activation. "
   ]
  },
  {
   "cell_type": "code",
   "execution_count": 7,
   "metadata": {},
   "outputs": [
    {
     "data": {
      "text/plain": [
       "update_status! (generic function with 1 method)"
      ]
     },
     "execution_count": 7,
     "metadata": {},
     "output_type": "execute_result"
    }
   ],
   "source": [
    "function update_status!(G::Vector{LightGraphs.SimpleGraphs.SimpleGraph{Int}},\n",
    "                        node_status::Vector{BitVector},\n",
    "                        n_weak_ties::Int,\n",
    "                        alpha::Float64, beta_w::Float64, beta_s::Float64)\n",
    "\n",
    "    # assuming that the nodes update in random order\n",
    "\n",
    "    for node_network_id in shuffle(1:length(G))\n",
    "        for node in shuffle(vertices(G[node_network_id]))\n",
    "            n_active_str_ties = count_active_str_ties(G, node_network_id, node, node_status)\n",
    "            n_active_wk_ties = random_meetings(G, node_network_id, node, node_status, n_weak_ties)\n",
    "\n",
    "            activation_prob = 1 - (1 - alpha) * (1 - beta_w)^n_active_wk_ties * (1 - beta_s)^n_active_str_ties\n",
    "\n",
    "            if rand(Uniform()) < activation_prob\n",
    "                node_status[node_network_id][node] = true\n",
    "            end\n",
    "        end\n",
    "    end\n",
    "\n",
    "    return nothing\n",
    "end"
   ]
  },
  {
   "cell_type": "markdown",
   "metadata": {},
   "source": [
    "### 3.2.4 Simulation on the parameter space\n",
    "\n",
    "The function `execute_simulation` puts together the scaffolding to set up the parameter space $(s, w, \\alpha, \\beta_w, \\beta_s)$ and execute diffusion along the network. From what I can gather from the paper, one simulation was carried out at each point on the parameter space. No further details regarding the execution are mentioned except that since each parameter has 7 levels, a total of $7^5 = 16,807$ simulations were executed in a factorial design. In this workbook, we work on a smaller parameter space using 3 levels for each parameter.\n",
    "\n",
    "Also, I am assuming that the network is drawn at random for each run of the simulation.\n",
    "\n",
    "One more interesting thing to note: The authors mention that their simulations were written in C, it would be interesting to compare the execution times with Julia. This is a non-standard problem that tests both the robustness of Julia types and its execution speed (maybe this will prompt someone to make a pull request!)."
   ]
  },
  {
   "cell_type": "code",
   "execution_count": 8,
   "metadata": {},
   "outputs": [
    {
     "name": "stdout",
     "output_type": "stream",
     "text": [
      "Number of strong ties per node (s): [5, 17, 29]\n",
      "Number of weak ties per node(w): [5, 17, 29]\n",
      "Effect of advertising (α): [0.0005, 0.00525, 0.01]\n",
      "Effect of weak ties (β_w): [0.005, 0.01, 0.015]\n",
      "Effect of strong ties (β_s): [0.01, 0.04, 0.07]\n"
     ]
    }
   ],
   "source": [
    "println(\"Number of strong ties per node (s): \", floor.(Int, linspace(5, 29, 3)))\n",
    "println(\"Number of weak ties per node(w): \", floor.(Int, linspace(5, 29, 3)))\n",
    "println(\"Effect of advertising (α): \", collect(linspace(0.0005, 0.01, 3)))\n",
    "println(\"Effect of weak ties (β_w): \", collect(linspace(0.005, 0.015, 3)))\n",
    "println(\"Effect of strong ties (β_s): \", collect(linspace(0.01, 0.07, 3)))"
   ]
  },
  {
   "cell_type": "code",
   "execution_count": 9,
   "metadata": {},
   "outputs": [
    {
     "data": {
      "text/plain": [
       "((3, 3, 3, 3, 3), 243)"
      ]
     },
     "execution_count": 9,
     "metadata": {},
     "output_type": "execute_result"
    }
   ],
   "source": [
    "parameter_space = [(s, w, alpha, beta_w, beta_s) for s in floor.(Int, linspace(5, 29, 3)), \n",
    "                                                     w in floor.(Int, linspace(5, 29, 3)),\n",
    "                                                     alpha in linspace(0.0005, 0.01, 3),\n",
    "                                                     beta_w in linspace(0.005, 0.015, 3),\n",
    "                                                     beta_s in linspace(0.01, 0.07, 3)]\n",
    "\n",
    "size(parameter_space), length(parameter_space)"
   ]
  },
  {
   "cell_type": "code",
   "execution_count": 10,
   "metadata": {},
   "outputs": [
    {
     "data": {
      "text/plain": [
       "execute_simulation (generic function with 1 method)"
      ]
     },
     "execution_count": 10,
     "metadata": {},
     "output_type": "execute_result"
    }
   ],
   "source": [
    "function execute_simulation(parameter_space, n_nodes::Int)\n",
    "\n",
    "    # n_nodes dictates how big the network will be\n",
    "    # We cannot pre-allocate the output since we do not know for how many time steps the simulation will\n",
    "    # run at each setting\n",
    "\n",
    "    output = DataFrame(s = Int[], w = Int[], alpha = Float64[],\n",
    "                       beta_w = Float64[], beta_s = Float64[],\n",
    "                       t = Int[], num_engaged = Int[])\n",
    "\n",
    "    println(\"Beginning simulation at : \", Dates.format(now(), \"HH:MM\"))\n",
    "    println(\"You might want to grab a cup of coffee while Julia brews the simulation...\")\n",
    "\n",
    "    @showprogress 1 \"Crunching numbers while you munch...\" for (s, w, alpha, beta_w, beta_s) in parameter_space[1:end]\n",
    "\n",
    "        G = initialize_network(n_nodes, s)\n",
    "\n",
    "        node_status = reset_node_status(G)\n",
    "\n",
    "        num_engaged = sum(sum(node_status))\n",
    "\n",
    "        t = 1\n",
    "\n",
    "        # Continue updates at each setting till 95% of the network engages\n",
    "\n",
    "        while num_engaged < floor(Int, 0.95 * n_nodes)\n",
    "            update_status!(G, node_status, w, alpha, beta_w, beta_s)\n",
    "            num_engaged = sum(sum(node_status))\n",
    "            push!(output, [s, w, alpha, beta_w, beta_s, t, num_engaged])\n",
    "            t += 1\n",
    "        end\n",
    "    end\n",
    "\n",
    "    return output\n",
    "end"
   ]
  },
  {
   "cell_type": "code",
   "execution_count": 12,
   "metadata": {},
   "outputs": [
    {
     "name": "stdout",
     "output_type": "stream",
     "text": [
      "Beginning simulation at : 11:45\n",
      "You might want to grab a cup of coffee while Julia brews the simulation...\n"
     ]
    },
    {
     "name": "stderr",
     "output_type": "stream",
     "text": [
      "\u001b[32mCrunching numbers while you munch...100%|███████████████| Time: 0:02:37\u001b[39m\n"
     ]
    },
    {
     "data": {
      "text/html": [
       "<table class=\"data-frame\"><thead><tr><th></th><th>s</th><th>w</th><th>alpha</th><th>beta_w</th><th>beta_s</th><th>t</th><th>num_engaged</th></tr></thead><tbody><tr><th>1</th><td>5</td><td>5</td><td>0.0005</td><td>0.005</td><td>0.01</td><td>1</td><td>2</td></tr><tr><th>2</th><td>5</td><td>5</td><td>0.0005</td><td>0.005</td><td>0.01</td><td>2</td><td>4</td></tr><tr><th>3</th><td>5</td><td>5</td><td>0.0005</td><td>0.005</td><td>0.01</td><td>3</td><td>5</td></tr><tr><th>4</th><td>5</td><td>5</td><td>0.0005</td><td>0.005</td><td>0.01</td><td>4</td><td>8</td></tr><tr><th>5</th><td>5</td><td>5</td><td>0.0005</td><td>0.005</td><td>0.01</td><td>5</td><td>8</td></tr><tr><th>6</th><td>5</td><td>5</td><td>0.0005</td><td>0.005</td><td>0.01</td><td>6</td><td>13</td></tr><tr><th>7</th><td>5</td><td>5</td><td>0.0005</td><td>0.005</td><td>0.01</td><td>7</td><td>19</td></tr><tr><th>8</th><td>5</td><td>5</td><td>0.0005</td><td>0.005</td><td>0.01</td><td>8</td><td>23</td></tr><tr><th>9</th><td>5</td><td>5</td><td>0.0005</td><td>0.005</td><td>0.01</td><td>9</td><td>25</td></tr><tr><th>10</th><td>5</td><td>5</td><td>0.0005</td><td>0.005</td><td>0.01</td><td>10</td><td>27</td></tr><tr><th>11</th><td>5</td><td>5</td><td>0.0005</td><td>0.005</td><td>0.01</td><td>11</td><td>31</td></tr><tr><th>12</th><td>5</td><td>5</td><td>0.0005</td><td>0.005</td><td>0.01</td><td>12</td><td>34</td></tr><tr><th>13</th><td>5</td><td>5</td><td>0.0005</td><td>0.005</td><td>0.01</td><td>13</td><td>36</td></tr><tr><th>14</th><td>5</td><td>5</td><td>0.0005</td><td>0.005</td><td>0.01</td><td>14</td><td>42</td></tr><tr><th>15</th><td>5</td><td>5</td><td>0.0005</td><td>0.005</td><td>0.01</td><td>15</td><td>45</td></tr><tr><th>16</th><td>5</td><td>5</td><td>0.0005</td><td>0.005</td><td>0.01</td><td>16</td><td>46</td></tr><tr><th>17</th><td>5</td><td>5</td><td>0.0005</td><td>0.005</td><td>0.01</td><td>17</td><td>49</td></tr><tr><th>18</th><td>5</td><td>5</td><td>0.0005</td><td>0.005</td><td>0.01</td><td>18</td><td>56</td></tr><tr><th>19</th><td>5</td><td>5</td><td>0.0005</td><td>0.005</td><td>0.01</td><td>19</td><td>61</td></tr><tr><th>20</th><td>5</td><td>5</td><td>0.0005</td><td>0.005</td><td>0.01</td><td>20</td><td>66</td></tr><tr><th>21</th><td>5</td><td>5</td><td>0.0005</td><td>0.005</td><td>0.01</td><td>21</td><td>69</td></tr><tr><th>22</th><td>5</td><td>5</td><td>0.0005</td><td>0.005</td><td>0.01</td><td>22</td><td>74</td></tr><tr><th>23</th><td>5</td><td>5</td><td>0.0005</td><td>0.005</td><td>0.01</td><td>23</td><td>79</td></tr><tr><th>24</th><td>5</td><td>5</td><td>0.0005</td><td>0.005</td><td>0.01</td><td>24</td><td>84</td></tr><tr><th>25</th><td>5</td><td>5</td><td>0.0005</td><td>0.005</td><td>0.01</td><td>25</td><td>90</td></tr><tr><th>26</th><td>5</td><td>5</td><td>0.0005</td><td>0.005</td><td>0.01</td><td>26</td><td>95</td></tr><tr><th>27</th><td>5</td><td>5</td><td>0.0005</td><td>0.005</td><td>0.01</td><td>27</td><td>105</td></tr><tr><th>28</th><td>5</td><td>5</td><td>0.0005</td><td>0.005</td><td>0.01</td><td>28</td><td>110</td></tr><tr><th>29</th><td>5</td><td>5</td><td>0.0005</td><td>0.005</td><td>0.01</td><td>29</td><td>115</td></tr><tr><th>30</th><td>5</td><td>5</td><td>0.0005</td><td>0.005</td><td>0.01</td><td>30</td><td>123</td></tr><tr><th>&vellip;</th><td>&vellip;</td><td>&vellip;</td><td>&vellip;</td><td>&vellip;</td><td>&vellip;</td><td>&vellip;</td><td>&vellip;</td></tr></tbody></table>"
      ],
      "text/plain": [
       "5616×7 DataFrames.DataFrame\n",
       "│ Row  │ s  │ w  │ alpha  │ beta_w │ beta_s │ t  │ num_engaged │\n",
       "├──────┼────┼────┼────────┼────────┼────────┼────┼─────────────┤\n",
       "│ 1    │ 5  │ 5  │ 0.0005 │ 0.005  │ 0.01   │ 1  │ 2           │\n",
       "│ 2    │ 5  │ 5  │ 0.0005 │ 0.005  │ 0.01   │ 2  │ 4           │\n",
       "│ 3    │ 5  │ 5  │ 0.0005 │ 0.005  │ 0.01   │ 3  │ 5           │\n",
       "│ 4    │ 5  │ 5  │ 0.0005 │ 0.005  │ 0.01   │ 4  │ 8           │\n",
       "│ 5    │ 5  │ 5  │ 0.0005 │ 0.005  │ 0.01   │ 5  │ 8           │\n",
       "│ 6    │ 5  │ 5  │ 0.0005 │ 0.005  │ 0.01   │ 6  │ 13          │\n",
       "│ 7    │ 5  │ 5  │ 0.0005 │ 0.005  │ 0.01   │ 7  │ 19          │\n",
       "│ 8    │ 5  │ 5  │ 0.0005 │ 0.005  │ 0.01   │ 8  │ 23          │\n",
       "│ 9    │ 5  │ 5  │ 0.0005 │ 0.005  │ 0.01   │ 9  │ 25          │\n",
       "│ 10   │ 5  │ 5  │ 0.0005 │ 0.005  │ 0.01   │ 10 │ 27          │\n",
       "│ 11   │ 5  │ 5  │ 0.0005 │ 0.005  │ 0.01   │ 11 │ 31          │\n",
       "⋮\n",
       "│ 5605 │ 5  │ 29 │ 0.01   │ 0.015  │ 0.07   │ 9  │ 2735        │\n",
       "│ 5606 │ 5  │ 29 │ 0.01   │ 0.015  │ 0.07   │ 10 │ 2854        │\n",
       "│ 5607 │ 17 │ 29 │ 0.01   │ 0.015  │ 0.07   │ 1  │ 96          │\n",
       "│ 5608 │ 17 │ 29 │ 0.01   │ 0.015  │ 0.07   │ 2  │ 402         │\n",
       "│ 5609 │ 17 │ 29 │ 0.01   │ 0.015  │ 0.07   │ 3  │ 1087        │\n",
       "│ 5610 │ 17 │ 29 │ 0.01   │ 0.015  │ 0.07   │ 4  │ 1967        │\n",
       "│ 5611 │ 17 │ 29 │ 0.01   │ 0.015  │ 0.07   │ 5  │ 2637        │\n",
       "│ 5612 │ 17 │ 29 │ 0.01   │ 0.015  │ 0.07   │ 6  │ 2900        │\n",
       "│ 5613 │ 29 │ 29 │ 0.01   │ 0.015  │ 0.07   │ 1  │ 158         │\n",
       "│ 5614 │ 29 │ 29 │ 0.01   │ 0.015  │ 0.07   │ 2  │ 899         │\n",
       "│ 5615 │ 29 │ 29 │ 0.01   │ 0.015  │ 0.07   │ 3  │ 2179        │\n",
       "│ 5616 │ 29 │ 29 │ 0.01   │ 0.015  │ 0.07   │ 4  │ 2859        │"
      ]
     },
     "execution_count": 12,
     "metadata": {},
     "output_type": "execute_result"
    }
   ],
   "source": [
    "results = execute_simulation(parameter_space, 3000)"
   ]
  },
  {
   "cell_type": "markdown",
   "metadata": {},
   "source": [
    "# 4. Discussion\n",
    "\n",
    "To answer the research questions, the authors resort to simple linear regression. \n",
    "\n",
    "Since our focus in this workbook is on highlighting the strengths of the JuliaGraphs ecosystem, we keep the regression modeling at the most basic level.\n",
    "\n",
    "As discussed earlier, the outcome is the time taken for 95% of the network to engage with the message. The features used to predict this outcome are $s$, $w$, $\\alpha$, $\\beta_w$ and $\\beta_S$. "
   ]
  },
  {
   "cell_type": "code",
   "execution_count": 13,
   "metadata": {},
   "outputs": [
    {
     "data": {
      "text/html": [
       "<table class=\"data-frame\"><thead><tr><th></th><th>s</th><th>w</th><th>alpha</th><th>beta_w</th><th>beta_s</th><th>t</th><th>num_engaged</th></tr></thead><tbody><tr><th>1</th><td>5</td><td>5</td><td>0.0005</td><td>0.005</td><td>0.01</td><td>1</td><td>2</td></tr><tr><th>2</th><td>5</td><td>5</td><td>0.0005</td><td>0.005</td><td>0.01</td><td>2</td><td>4</td></tr><tr><th>3</th><td>5</td><td>5</td><td>0.0005</td><td>0.005</td><td>0.01</td><td>3</td><td>5</td></tr><tr><th>4</th><td>5</td><td>5</td><td>0.0005</td><td>0.005</td><td>0.01</td><td>4</td><td>8</td></tr><tr><th>5</th><td>5</td><td>5</td><td>0.0005</td><td>0.005</td><td>0.01</td><td>5</td><td>8</td></tr><tr><th>6</th><td>5</td><td>5</td><td>0.0005</td><td>0.005</td><td>0.01</td><td>6</td><td>13</td></tr></tbody></table>"
      ],
      "text/plain": [
       "6×7 DataFrames.DataFrame\n",
       "│ Row │ s │ w │ alpha  │ beta_w │ beta_s │ t │ num_engaged │\n",
       "├─────┼───┼───┼────────┼────────┼────────┼───┼─────────────┤\n",
       "│ 1   │ 5 │ 5 │ 0.0005 │ 0.005  │ 0.01   │ 1 │ 2           │\n",
       "│ 2   │ 5 │ 5 │ 0.0005 │ 0.005  │ 0.01   │ 2 │ 4           │\n",
       "│ 3   │ 5 │ 5 │ 0.0005 │ 0.005  │ 0.01   │ 3 │ 5           │\n",
       "│ 4   │ 5 │ 5 │ 0.0005 │ 0.005  │ 0.01   │ 4 │ 8           │\n",
       "│ 5   │ 5 │ 5 │ 0.0005 │ 0.005  │ 0.01   │ 5 │ 8           │\n",
       "│ 6   │ 5 │ 5 │ 0.0005 │ 0.005  │ 0.01   │ 6 │ 13          │"
      ]
     },
     "execution_count": 13,
     "metadata": {},
     "output_type": "execute_result"
    }
   ],
   "source": [
    "head(results)"
   ]
  },
  {
   "cell_type": "markdown",
   "metadata": {},
   "source": [
    "To build the data required for the linear modeling, we group the data by each parameter setting and calculate the time the network takes to reach 95% activation."
   ]
  },
  {
   "cell_type": "code",
   "execution_count": 14,
   "metadata": {},
   "outputs": [
    {
     "data": {
      "text/html": [
       "<table class=\"data-frame\"><thead><tr><th></th><th>s</th><th>w</th><th>alpha</th><th>beta_w</th><th>beta_s</th><th>T95</th></tr></thead><tbody><tr><th>1</th><td>5</td><td>5</td><td>0.0005</td><td>0.005</td><td>0.01</td><td>149</td></tr><tr><th>2</th><td>5</td><td>5</td><td>0.0005</td><td>0.005</td><td>0.04</td><td>102</td></tr><tr><th>3</th><td>5</td><td>5</td><td>0.0005</td><td>0.005</td><td>0.07</td><td>84</td></tr><tr><th>4</th><td>5</td><td>5</td><td>0.0005</td><td>0.01</td><td>0.01</td><td>110</td></tr><tr><th>5</th><td>5</td><td>5</td><td>0.0005</td><td>0.01</td><td>0.04</td><td>70</td></tr><tr><th>6</th><td>5</td><td>5</td><td>0.0005</td><td>0.01</td><td>0.07</td><td>61</td></tr></tbody></table>"
      ],
      "text/plain": [
       "6×6 DataFrames.DataFrame\n",
       "│ Row │ s │ w │ alpha  │ beta_w │ beta_s │ T95 │\n",
       "├─────┼───┼───┼────────┼────────┼────────┼─────┤\n",
       "│ 1   │ 5 │ 5 │ 0.0005 │ 0.005  │ 0.01   │ 149 │\n",
       "│ 2   │ 5 │ 5 │ 0.0005 │ 0.005  │ 0.04   │ 102 │\n",
       "│ 3   │ 5 │ 5 │ 0.0005 │ 0.005  │ 0.07   │ 84  │\n",
       "│ 4   │ 5 │ 5 │ 0.0005 │ 0.01   │ 0.01   │ 110 │\n",
       "│ 5   │ 5 │ 5 │ 0.0005 │ 0.01   │ 0.04   │ 70  │\n",
       "│ 6   │ 5 │ 5 │ 0.0005 │ 0.01   │ 0.07   │ 61  │"
      ]
     },
     "execution_count": 14,
     "metadata": {},
     "output_type": "execute_result"
    }
   ],
   "source": [
    "all_engaged = by(results, [:s, :w, :alpha, :beta_w, :beta_s], df -> DataFrame(T95 = maximum(df[:t])));\n",
    "head(all_engaged)"
   ]
  },
  {
   "cell_type": "markdown",
   "metadata": {},
   "source": [
    "We then run a simple linear model on the data"
   ]
  },
  {
   "cell_type": "code",
   "execution_count": 16,
   "metadata": {},
   "outputs": [
    {
     "data": {
      "text/plain": [
       "DataFrames.DataFrameRegressionModel{GLM.LinearModel{GLM.LmResp{Array{Float64,1}},GLM.DensePredChol{Float64,Base.LinAlg.Cholesky{Float64,Array{Float64,2}}}},Array{Float64,2}}\n",
       "\n",
       "Formula: T95 ~ 1 + s + w + alpha + beta_s + beta_w\n",
       "\n",
       "Coefficients:\n",
       "              Estimate Std.Error  t value Pr(>|t|)\n",
       "(Intercept)    83.7699   2.98109  28.1004   <1e-76\n",
       "s            -0.998457 0.0726898 -13.7359   <1e-31\n",
       "w            -0.819959 0.0726898 -11.2802   <1e-23\n",
       "alpha         -1351.53   183.637 -7.35976   <1e-11\n",
       "beta_s        -292.181   29.0759 -10.0489   <1e-19\n",
       "beta_w         -1096.3   174.455  -6.2841    <1e-8\n"
      ]
     },
     "execution_count": 16,
     "metadata": {},
     "output_type": "execute_result"
    }
   ],
   "source": [
    "ols = lm(@formula(T95 ~ s + w + alpha + beta_s + beta_w), all_engaged)"
   ]
  },
  {
   "cell_type": "code",
   "execution_count": 17,
   "metadata": {},
   "outputs": [
    {
     "data": {
      "text/plain": [
       "0.6829662348144289"
      ]
     },
     "execution_count": 17,
     "metadata": {},
     "output_type": "execute_result"
    }
   ],
   "source": [
    "r2(ols)"
   ]
  },
  {
   "cell_type": "markdown",
   "metadata": {},
   "source": [
    "This is a rather strong finding. The speed of information diffusion is impacted equally strongly by both strong ties and weak ties. As the authors note, the surprising aspect of this strudy is that the effect of weak ties is rather strong despite the inferiority of the weak ties parameter in the model assumptions."
   ]
  }
 ],
 "metadata": {
  "kernelspec": {
   "display_name": "Julia 0.6.2",
   "language": "julia",
   "name": "julia-0.6"
  },
  "language_info": {
   "file_extension": ".jl",
   "mimetype": "application/julia",
   "name": "julia",
   "version": "0.6.2"
  }
 },
 "nbformat": 4,
 "nbformat_minor": 2
}
