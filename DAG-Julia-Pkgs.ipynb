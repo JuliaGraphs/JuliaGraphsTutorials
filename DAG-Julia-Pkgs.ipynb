{
 "cells": [
  {
   "cell_type": "markdown",
   "metadata": {},
   "source": [
    "# The DAG of Julia packages\n",
    "\n",
    "## Problem statement\n",
    "\n",
    "In this tutorial, we show how LG in conjunction with other utility packages can be used for extracting the most recent directed acyclic graph (DAG) of the Julia package system. This information can be used for interactive data visualization with [D3](https://d3js.org/) like in the following links:\n",
    "\n",
    "- **The DAG of Julia packages:** https://juliohm.github.io/science/DAG-of-Julia-packages\n",
    "\n",
    "All the packages used in this notebook can be installed with:"
   ]
  },
  {
   "cell_type": "code",
   "execution_count": 1,
   "metadata": {},
   "outputs": [
    {
     "name": "stderr",
     "output_type": "stream",
     "text": [
      "\u001b[1m\u001b[34mINFO: Nothing to be done\n",
      "\u001b[0m\u001b[1m\u001b[34mINFO: Nothing to be done\n",
      "\u001b[0m\u001b[1m\u001b[34mINFO: Nothing to be done\n",
      "\u001b[0m\u001b[1m\u001b[34mINFO: Nothing to be done\n",
      "\u001b[0m"
     ]
    }
   ],
   "source": [
    "for dep in [\"JSON\",\"GitHub\",\"LightGraphs\",\"ProgressMeter\"]\n",
    "    Pkg.add(dep)\n",
    "end"
   ]
  },
  {
   "cell_type": "markdown",
   "metadata": {},
   "source": [
    "In order to be able to query information from GitHub without be misinterpreted as a malicious robot, you need to [create a personal token](https://github.com/settings/tokens) in your GitHub settings. Since this token is private, we ask you to save it as an environment variable in your operating system (e.g. set `GITHUB_AUTH` in your `.bashrc` file). This variable will be read in Julia and used for authentication as follows:"
   ]
  },
  {
   "cell_type": "code",
   "execution_count": 2,
   "metadata": {},
   "outputs": [
    {
     "data": {
      "text/plain": [
       "GitHub.OAuth2(8cda0d**********************************)"
      ]
     },
     "execution_count": 2,
     "metadata": {},
     "output_type": "execute_result"
    }
   ],
   "source": [
    "using JSON\n",
    "using GitHub\n",
    "using LightGraphs\n",
    "using ProgressMeter\n",
    "\n",
    "# authenticate with GitHub to increase query limits\n",
    "myauth = GitHub.authenticate(ENV[\"GITHUB_AUTH\"])"
   ]
  },
  {
   "cell_type": "markdown",
   "metadata": {},
   "source": [
    "After successful authentication, we are now ready to start coding. First, we extract the names of all registered packages in METADATA and assign to each of them a unique integer id:"
   ]
  },
  {
   "cell_type": "code",
   "execution_count": 3,
   "metadata": {},
   "outputs": [
    {
     "data": {
      "text/plain": [
       "Dict{String,Int64} with 1386 entries:\n",
       "  \"Levenshtein\"        => 664\n",
       "  \"ReadStat\"           => 1052\n",
       "  \"Discretizers\"       => 297\n",
       "  \"SchumakerSpline\"    => 1116\n",
       "  \"FredData\"           => 415\n",
       "  \"GaussQuadrature\"    => 434\n",
       "  \"RecurrenceAnalysis\" => 1056\n",
       "  \"AnsiColor\"          => 18\n",
       "  \"ProximalOperators\"  => 990\n",
       "  \"Luxor\"              => 715\n",
       "  \"RobustLeastSquares\" => 1094\n",
       "  \"Temporal\"           => 1248\n",
       "  \"Robotlib\"           => 1092\n",
       "  \"PiecewiseLinearOpt\" => 947\n",
       "  \"JLDArchives\"        => 608\n",
       "  \"MatrixDepot\"        => 741\n",
       "  \"CodeTools\"          => 154\n",
       "  \"NumericSuffixes\"    => 866\n",
       "  \"COBRA\"              => 152\n",
       "  \"Crypto\"             => 215\n",
       "  \"Mongo\"              => 792\n",
       "  \"ROOT\"               => 1102\n",
       "  \"MNIST\"              => 784\n",
       "  \"RandomMatrices\"     => 1034\n",
       "  \"GMT\"                => 471\n",
       "  ⋮                    => ⋮"
      ]
     },
     "execution_count": 3,
     "metadata": {},
     "output_type": "execute_result"
    }
   ],
   "source": [
    "# find all packages in METADATA\n",
    "pkgs = readdir(Pkg.dir(\"METADATA\"))\n",
    "filterfunc = p -> isdir(joinpath(Pkg.dir(\"METADATA\"), p)) && p ∉ [\".git\",\".test\"]\n",
    "pkgs = filter(filterfunc, pkgs)\n",
    "\n",
    "# assign each package an id\n",
    "pkgdict = Dict{String,Int}()\n",
    "for (i,pkg) in enumerate(pkgs)\n",
    "  push!(pkgdict, pkg => i)\n",
    "end\n",
    "pkgdict"
   ]
  },
  {
   "cell_type": "markdown",
   "metadata": {},
   "source": [
    "Using the ids, we can easily build the DAG of packages with LG:"
   ]
  },
  {
   "cell_type": "code",
   "execution_count": 4,
   "metadata": {},
   "outputs": [
    {
     "name": "stderr",
     "output_type": "stream",
     "text": [
      "Building graph...100% Time: 0:03:17\n"
     ]
    }
   ],
   "source": [
    "# build DAG\n",
    "G = DiGraph(length(pkgs))\n",
    "@showprogress 1 \"Building graph...\" for pkg in pkgs\n",
    "  children = Pkg.dependents(pkg)\n",
    "  for c in children\n",
    "    add_edge!(G, pkgdict[pkg], pkgdict[c])\n",
    "  end\n",
    "end"
   ]
  },
  {
   "cell_type": "markdown",
   "metadata": {},
   "source": [
    "We are interested in finding all the descendents of a package. In other words, we are interested in finding all packages that are influenced by a given package. In this context, we further want to save the level of dependency (or geodesic distance) from descendents to the package being queried. This is a straightforward operation in LG:"
   ]
  },
  {
   "cell_type": "code",
   "execution_count": 5,
   "metadata": {
    "collapsed": true
   },
   "outputs": [],
   "source": [
    "# find (indirect) descendents\n",
    "descendents = []\n",
    "for pkg in pkgs\n",
    "  gdists = gdistances(G, pkgdict[pkg])\n",
    "  desc = [Dict(\"id\"=>pkgs[v], \"level\"=>gdists[v]) for v in find(gdists .> 0)]\n",
    "  push!(descendents, desc)\n",
    "end"
   ]
  },
  {
   "cell_type": "markdown",
   "metadata": {},
   "source": [
    "For each package, we also want to save information about who has contributed to the project. This task is easy to implement with the awesome [GitHub.jl](https://github.com/JuliaWeb/GitHub.jl) API. However, some of the packages registered in METADATA are hosted on different websites such as gitlab, for which an API is missing. We simply skip them and ask authors to migrate their code to GitHub if possible:"
   ]
  },
  {
   "cell_type": "code",
   "execution_count": 6,
   "metadata": {},
   "outputs": [
    {
     "name": "stderr",
     "output_type": "stream",
     "text": [
      "Finding contributors...100% Time: 0:16:51\n"
     ]
    }
   ],
   "source": [
    "# find contributors\n",
    "pkgcontributors = []\n",
    "hostnames = []\n",
    "@showprogress 1 \"Finding contributors...\" for pkg in pkgs\n",
    "  urlfile = joinpath(Pkg.dir(\"METADATA\"), pkg, \"url\")\n",
    "  url = readline(urlfile)\n",
    "  m = match(r\".*://([a-z.]*)/(.*)\\.git.*\", url)\n",
    "  hostname = m[1]; reponame = m[2]\n",
    "  if hostname == \"github.com\"\n",
    "    users, _ = contributors(reponame, auth=myauth)\n",
    "    usersdata = map(u -> (u[\"contributor\"].login, u[\"contributions\"]), users)\n",
    "    pkgcontrib = [Dict(\"id\"=>u, \"contributions\"=>c) for (u,c) in usersdata]\n",
    "    push!(pkgcontributors, pkgcontrib)\n",
    "    push!(hostnames, hostname)\n",
    "  else\n",
    "    push!(pkgcontributors, [])\n",
    "    push!(hostnames, hostname)\n",
    "  end\n",
    "end"
   ]
  },
  {
   "cell_type": "markdown",
   "metadata": {},
   "source": [
    "We also extract the Julia version required in the last tag of a package. Both the lower and upper bounds are saved as well as a \"cleaned\" `major.minor` string for the lower bound, which is useful for data visualization:"
   ]
  },
  {
   "cell_type": "code",
   "execution_count": 7,
   "metadata": {
    "collapsed": true
   },
   "outputs": [],
   "source": [
    "# find required Julia version\n",
    "juliaversion = []\n",
    "for pkg in pkgs\n",
    "  versiondir = joinpath(Pkg.dir(\"METADATA\"), pkg, \"versions\")\n",
    "  if isdir(versiondir)\n",
    "    latestversion = readdir(versiondir)[end]\n",
    "    reqfile = joinpath(versiondir, latestversion, \"requires\")\n",
    "    reqs = Pkg.Reqs.parse(reqfile)\n",
    "    if \"julia\" ∈ keys(reqs)\n",
    "      vinterval = reqs[\"julia\"].intervals[1]\n",
    "      vmin = vinterval.lower\n",
    "      vmax = vinterval.upper\n",
    "      majorminor = \"v$(vmin.major).$(vmin.minor)\"\n",
    "      push!(juliaversion, Dict(\"min\"=>string(vinterval.lower),\n",
    "                               \"max\"=>string(vinterval.upper),\n",
    "                               \"majorminor\"=>majorminor))\n",
    "    else\n",
    "      push!(juliaversion, Dict(\"min\"=>\"NA\", \"max\"=>\"NA\", \"majorminor\"=>\"NA\"))\n",
    "    end\n",
    "  else\n",
    "    push!(juliaversion, Dict(\"min\"=>\"BOGUS\", \"max\"=>\"BOGUS\", \"majorminor\"=>\"BOGUS\"))\n",
    "  end\n",
    "end"
   ]
  },
  {
   "cell_type": "markdown",
   "metadata": {},
   "source": [
    "Finally, we save the data in a JSON file:"
   ]
  },
  {
   "cell_type": "code",
   "execution_count": 8,
   "metadata": {},
   "outputs": [],
   "source": [
    "# construct JSON\n",
    "nodes = [Dict(\"id\"=>pkgs[v],\n",
    "              \"indegree\"=>indegree(G,v),\n",
    "              \"outdegree\"=>outdegree(G,v),\n",
    "              \"juliaversion\"=>juliaversion[v],\n",
    "              \"descendents\"=>descendents[v],\n",
    "              \"contributors\"=>pkgcontributors[v]) for v in vertices(G)]\n",
    "\n",
    "links = [Dict(\"source\"=>pkgs[u], \"target\"=>pkgs[v]) for (u,v) in edges(G)]\n",
    "\n",
    "data = Dict(\"nodes\"=>nodes, \"links\"=>links)\n",
    "\n",
    "# write to file\n",
    "open(\"DAG-Julia-Pkgs.json\", \"w\") do f\n",
    "  JSON.print(f, data, 2)\n",
    "end"
   ]
  }
 ],
 "metadata": {
  "kernelspec": {
   "display_name": "Julia 0.5.1-pre",
   "language": "julia",
   "name": "julia-0.5"
  },
  "language_info": {
   "file_extension": ".jl",
   "mimetype": "application/julia",
   "name": "julia",
   "version": "0.5.1"
  }
 },
 "nbformat": 4,
 "nbformat_minor": 2
}
